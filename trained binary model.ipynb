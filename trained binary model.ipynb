{
 "cells": [
  {
   "cell_type": "code",
   "execution_count": 2,
   "id": "efed5b84",
   "metadata": {},
   "outputs": [],
   "source": [
    "import pandas as pd"
   ]
  },
  {
   "cell_type": "code",
   "execution_count": 3,
   "id": "a4b7868e",
   "metadata": {},
   "outputs": [],
   "source": [
    "diabetes = pd.read_csv(\"diabetes.csv\") "
   ]
  },
  {
   "cell_type": "code",
   "execution_count": 4,
   "id": "56ad8eba",
   "metadata": {},
   "outputs": [
    {
     "data": {
      "text/html": [
       "<div>\n",
       "<style scoped>\n",
       "    .dataframe tbody tr th:only-of-type {\n",
       "        vertical-align: middle;\n",
       "    }\n",
       "\n",
       "    .dataframe tbody tr th {\n",
       "        vertical-align: top;\n",
       "    }\n",
       "\n",
       "    .dataframe thead th {\n",
       "        text-align: right;\n",
       "    }\n",
       "</style>\n",
       "<table border=\"1\" class=\"dataframe\">\n",
       "  <thead>\n",
       "    <tr style=\"text-align: right;\">\n",
       "      <th></th>\n",
       "      <th>PatientID</th>\n",
       "      <th>Pregnancies</th>\n",
       "      <th>PlasmaGlucose</th>\n",
       "      <th>DiastolicBloodPressure</th>\n",
       "      <th>TricepsThickness</th>\n",
       "      <th>SerumInsulin</th>\n",
       "      <th>BMI</th>\n",
       "      <th>DiabetesPedigree</th>\n",
       "      <th>Age</th>\n",
       "      <th>Diabetic</th>\n",
       "    </tr>\n",
       "  </thead>\n",
       "  <tbody>\n",
       "    <tr>\n",
       "      <th>6164</th>\n",
       "      <td>1173013</td>\n",
       "      <td>1</td>\n",
       "      <td>121</td>\n",
       "      <td>45</td>\n",
       "      <td>43</td>\n",
       "      <td>32</td>\n",
       "      <td>21.893199</td>\n",
       "      <td>0.128653</td>\n",
       "      <td>21</td>\n",
       "      <td>0</td>\n",
       "    </tr>\n",
       "    <tr>\n",
       "      <th>9514</th>\n",
       "      <td>1714501</td>\n",
       "      <td>0</td>\n",
       "      <td>72</td>\n",
       "      <td>89</td>\n",
       "      <td>42</td>\n",
       "      <td>255</td>\n",
       "      <td>29.415348</td>\n",
       "      <td>0.440325</td>\n",
       "      <td>75</td>\n",
       "      <td>0</td>\n",
       "    </tr>\n",
       "    <tr>\n",
       "      <th>7724</th>\n",
       "      <td>1261547</td>\n",
       "      <td>10</td>\n",
       "      <td>76</td>\n",
       "      <td>58</td>\n",
       "      <td>16</td>\n",
       "      <td>14</td>\n",
       "      <td>18.682720</td>\n",
       "      <td>0.174565</td>\n",
       "      <td>22</td>\n",
       "      <td>0</td>\n",
       "    </tr>\n",
       "    <tr>\n",
       "      <th>8611</th>\n",
       "      <td>1833534</td>\n",
       "      <td>10</td>\n",
       "      <td>173</td>\n",
       "      <td>46</td>\n",
       "      <td>39</td>\n",
       "      <td>661</td>\n",
       "      <td>29.875951</td>\n",
       "      <td>0.086066</td>\n",
       "      <td>21</td>\n",
       "      <td>0</td>\n",
       "    </tr>\n",
       "    <tr>\n",
       "      <th>1082</th>\n",
       "      <td>1448511</td>\n",
       "      <td>3</td>\n",
       "      <td>183</td>\n",
       "      <td>62</td>\n",
       "      <td>28</td>\n",
       "      <td>260</td>\n",
       "      <td>27.270556</td>\n",
       "      <td>0.082754</td>\n",
       "      <td>21</td>\n",
       "      <td>1</td>\n",
       "    </tr>\n",
       "    <tr>\n",
       "      <th>10763</th>\n",
       "      <td>1077691</td>\n",
       "      <td>0</td>\n",
       "      <td>118</td>\n",
       "      <td>58</td>\n",
       "      <td>11</td>\n",
       "      <td>44</td>\n",
       "      <td>45.010502</td>\n",
       "      <td>0.221290</td>\n",
       "      <td>26</td>\n",
       "      <td>0</td>\n",
       "    </tr>\n",
       "    <tr>\n",
       "      <th>1138</th>\n",
       "      <td>1555524</td>\n",
       "      <td>11</td>\n",
       "      <td>91</td>\n",
       "      <td>80</td>\n",
       "      <td>23</td>\n",
       "      <td>43</td>\n",
       "      <td>28.594070</td>\n",
       "      <td>0.241852</td>\n",
       "      <td>21</td>\n",
       "      <td>0</td>\n",
       "    </tr>\n",
       "    <tr>\n",
       "      <th>13106</th>\n",
       "      <td>1283370</td>\n",
       "      <td>3</td>\n",
       "      <td>168</td>\n",
       "      <td>50</td>\n",
       "      <td>10</td>\n",
       "      <td>50</td>\n",
       "      <td>18.470320</td>\n",
       "      <td>0.183716</td>\n",
       "      <td>21</td>\n",
       "      <td>0</td>\n",
       "    </tr>\n",
       "    <tr>\n",
       "      <th>14329</th>\n",
       "      <td>1660133</td>\n",
       "      <td>7</td>\n",
       "      <td>147</td>\n",
       "      <td>89</td>\n",
       "      <td>32</td>\n",
       "      <td>79</td>\n",
       "      <td>21.804652</td>\n",
       "      <td>0.152033</td>\n",
       "      <td>22</td>\n",
       "      <td>0</td>\n",
       "    </tr>\n",
       "    <tr>\n",
       "      <th>2581</th>\n",
       "      <td>1485883</td>\n",
       "      <td>0</td>\n",
       "      <td>103</td>\n",
       "      <td>78</td>\n",
       "      <td>31</td>\n",
       "      <td>168</td>\n",
       "      <td>42.926514</td>\n",
       "      <td>0.132758</td>\n",
       "      <td>21</td>\n",
       "      <td>0</td>\n",
       "    </tr>\n",
       "    <tr>\n",
       "      <th>2723</th>\n",
       "      <td>1037478</td>\n",
       "      <td>0</td>\n",
       "      <td>103</td>\n",
       "      <td>50</td>\n",
       "      <td>9</td>\n",
       "      <td>38</td>\n",
       "      <td>21.036099</td>\n",
       "      <td>0.167660</td>\n",
       "      <td>25</td>\n",
       "      <td>0</td>\n",
       "    </tr>\n",
       "    <tr>\n",
       "      <th>4942</th>\n",
       "      <td>1727292</td>\n",
       "      <td>7</td>\n",
       "      <td>141</td>\n",
       "      <td>64</td>\n",
       "      <td>31</td>\n",
       "      <td>27</td>\n",
       "      <td>21.382202</td>\n",
       "      <td>0.251173</td>\n",
       "      <td>43</td>\n",
       "      <td>0</td>\n",
       "    </tr>\n",
       "    <tr>\n",
       "      <th>4734</th>\n",
       "      <td>1549787</td>\n",
       "      <td>0</td>\n",
       "      <td>117</td>\n",
       "      <td>80</td>\n",
       "      <td>42</td>\n",
       "      <td>34</td>\n",
       "      <td>21.172216</td>\n",
       "      <td>0.094593</td>\n",
       "      <td>44</td>\n",
       "      <td>0</td>\n",
       "    </tr>\n",
       "    <tr>\n",
       "      <th>7363</th>\n",
       "      <td>1111661</td>\n",
       "      <td>7</td>\n",
       "      <td>91</td>\n",
       "      <td>82</td>\n",
       "      <td>9</td>\n",
       "      <td>32</td>\n",
       "      <td>18.870462</td>\n",
       "      <td>0.116895</td>\n",
       "      <td>22</td>\n",
       "      <td>0</td>\n",
       "    </tr>\n",
       "    <tr>\n",
       "      <th>13420</th>\n",
       "      <td>1189498</td>\n",
       "      <td>1</td>\n",
       "      <td>102</td>\n",
       "      <td>45</td>\n",
       "      <td>12</td>\n",
       "      <td>40</td>\n",
       "      <td>49.002139</td>\n",
       "      <td>0.146771</td>\n",
       "      <td>22</td>\n",
       "      <td>0</td>\n",
       "    </tr>\n",
       "    <tr>\n",
       "      <th>10491</th>\n",
       "      <td>1733829</td>\n",
       "      <td>0</td>\n",
       "      <td>116</td>\n",
       "      <td>83</td>\n",
       "      <td>11</td>\n",
       "      <td>18</td>\n",
       "      <td>39.761587</td>\n",
       "      <td>0.276204</td>\n",
       "      <td>37</td>\n",
       "      <td>0</td>\n",
       "    </tr>\n",
       "    <tr>\n",
       "      <th>91</th>\n",
       "      <td>1834452</td>\n",
       "      <td>4</td>\n",
       "      <td>116</td>\n",
       "      <td>59</td>\n",
       "      <td>53</td>\n",
       "      <td>203</td>\n",
       "      <td>47.128939</td>\n",
       "      <td>0.496305</td>\n",
       "      <td>21</td>\n",
       "      <td>1</td>\n",
       "    </tr>\n",
       "    <tr>\n",
       "      <th>3048</th>\n",
       "      <td>1090483</td>\n",
       "      <td>6</td>\n",
       "      <td>97</td>\n",
       "      <td>94</td>\n",
       "      <td>37</td>\n",
       "      <td>339</td>\n",
       "      <td>34.179555</td>\n",
       "      <td>0.082968</td>\n",
       "      <td>41</td>\n",
       "      <td>1</td>\n",
       "    </tr>\n",
       "    <tr>\n",
       "      <th>5882</th>\n",
       "      <td>1224341</td>\n",
       "      <td>0</td>\n",
       "      <td>108</td>\n",
       "      <td>50</td>\n",
       "      <td>30</td>\n",
       "      <td>46</td>\n",
       "      <td>39.610492</td>\n",
       "      <td>0.090821</td>\n",
       "      <td>23</td>\n",
       "      <td>0</td>\n",
       "    </tr>\n",
       "    <tr>\n",
       "      <th>7764</th>\n",
       "      <td>1856768</td>\n",
       "      <td>3</td>\n",
       "      <td>98</td>\n",
       "      <td>79</td>\n",
       "      <td>14</td>\n",
       "      <td>216</td>\n",
       "      <td>31.132692</td>\n",
       "      <td>0.238070</td>\n",
       "      <td>21</td>\n",
       "      <td>1</td>\n",
       "    </tr>\n",
       "  </tbody>\n",
       "</table>\n",
       "</div>"
      ],
      "text/plain": [
       "       PatientID  Pregnancies  PlasmaGlucose  DiastolicBloodPressure  \\\n",
       "6164     1173013            1            121                      45   \n",
       "9514     1714501            0             72                      89   \n",
       "7724     1261547           10             76                      58   \n",
       "8611     1833534           10            173                      46   \n",
       "1082     1448511            3            183                      62   \n",
       "10763    1077691            0            118                      58   \n",
       "1138     1555524           11             91                      80   \n",
       "13106    1283370            3            168                      50   \n",
       "14329    1660133            7            147                      89   \n",
       "2581     1485883            0            103                      78   \n",
       "2723     1037478            0            103                      50   \n",
       "4942     1727292            7            141                      64   \n",
       "4734     1549787            0            117                      80   \n",
       "7363     1111661            7             91                      82   \n",
       "13420    1189498            1            102                      45   \n",
       "10491    1733829            0            116                      83   \n",
       "91       1834452            4            116                      59   \n",
       "3048     1090483            6             97                      94   \n",
       "5882     1224341            0            108                      50   \n",
       "7764     1856768            3             98                      79   \n",
       "\n",
       "       TricepsThickness  SerumInsulin        BMI  DiabetesPedigree  Age  \\\n",
       "6164                 43            32  21.893199          0.128653   21   \n",
       "9514                 42           255  29.415348          0.440325   75   \n",
       "7724                 16            14  18.682720          0.174565   22   \n",
       "8611                 39           661  29.875951          0.086066   21   \n",
       "1082                 28           260  27.270556          0.082754   21   \n",
       "10763                11            44  45.010502          0.221290   26   \n",
       "1138                 23            43  28.594070          0.241852   21   \n",
       "13106                10            50  18.470320          0.183716   21   \n",
       "14329                32            79  21.804652          0.152033   22   \n",
       "2581                 31           168  42.926514          0.132758   21   \n",
       "2723                  9            38  21.036099          0.167660   25   \n",
       "4942                 31            27  21.382202          0.251173   43   \n",
       "4734                 42            34  21.172216          0.094593   44   \n",
       "7363                  9            32  18.870462          0.116895   22   \n",
       "13420                12            40  49.002139          0.146771   22   \n",
       "10491                11            18  39.761587          0.276204   37   \n",
       "91                   53           203  47.128939          0.496305   21   \n",
       "3048                 37           339  34.179555          0.082968   41   \n",
       "5882                 30            46  39.610492          0.090821   23   \n",
       "7764                 14           216  31.132692          0.238070   21   \n",
       "\n",
       "       Diabetic  \n",
       "6164          0  \n",
       "9514          0  \n",
       "7724          0  \n",
       "8611          0  \n",
       "1082          1  \n",
       "10763         0  \n",
       "1138          0  \n",
       "13106         0  \n",
       "14329         0  \n",
       "2581          0  \n",
       "2723          0  \n",
       "4942          0  \n",
       "4734          0  \n",
       "7363          0  \n",
       "13420         0  \n",
       "10491         0  \n",
       "91            1  \n",
       "3048          1  \n",
       "5882          0  \n",
       "7764          1  "
      ]
     },
     "execution_count": 4,
     "metadata": {},
     "output_type": "execute_result"
    }
   ],
   "source": [
    "diabetes.sample(20)"
   ]
  },
  {
   "cell_type": "code",
   "execution_count": 5,
   "id": "0d2c670a",
   "metadata": {},
   "outputs": [
    {
     "name": "stdout",
     "output_type": "stream",
     "text": [
      "<class 'pandas.core.frame.DataFrame'>\n",
      "RangeIndex: 15000 entries, 0 to 14999\n",
      "Data columns (total 10 columns):\n",
      " #   Column                  Non-Null Count  Dtype  \n",
      "---  ------                  --------------  -----  \n",
      " 0   PatientID               15000 non-null  int64  \n",
      " 1   Pregnancies             15000 non-null  int64  \n",
      " 2   PlasmaGlucose           15000 non-null  int64  \n",
      " 3   DiastolicBloodPressure  15000 non-null  int64  \n",
      " 4   TricepsThickness        15000 non-null  int64  \n",
      " 5   SerumInsulin            15000 non-null  int64  \n",
      " 6   BMI                     15000 non-null  float64\n",
      " 7   DiabetesPedigree        15000 non-null  float64\n",
      " 8   Age                     15000 non-null  int64  \n",
      " 9   Diabetic                15000 non-null  int64  \n",
      "dtypes: float64(2), int64(8)\n",
      "memory usage: 1.1 MB\n"
     ]
    }
   ],
   "source": [
    "diabetes.info()"
   ]
  },
  {
   "cell_type": "code",
   "execution_count": 6,
   "id": "8fde7b91",
   "metadata": {},
   "outputs": [
    {
     "data": {
      "text/plain": [
       "PatientID                 14895\n",
       "Pregnancies                  15\n",
       "PlasmaGlucose               149\n",
       "DiastolicBloodPressure       90\n",
       "TricepsThickness             69\n",
       "SerumInsulin                663\n",
       "BMI                       15000\n",
       "DiabetesPedigree          14999\n",
       "Age                          56\n",
       "Diabetic                      2\n",
       "dtype: int64"
      ]
     },
     "execution_count": 6,
     "metadata": {},
     "output_type": "execute_result"
    }
   ],
   "source": [
    "diabetes.nunique()"
   ]
  },
  {
   "cell_type": "code",
   "execution_count": 7,
   "id": "ed9f4a63",
   "metadata": {},
   "outputs": [
    {
     "data": {
      "text/plain": [
       "PatientID                 0\n",
       "Pregnancies               0\n",
       "PlasmaGlucose             0\n",
       "DiastolicBloodPressure    0\n",
       "TricepsThickness          0\n",
       "SerumInsulin              0\n",
       "BMI                       0\n",
       "DiabetesPedigree          0\n",
       "Age                       0\n",
       "Diabetic                  0\n",
       "dtype: int64"
      ]
     },
     "execution_count": 7,
     "metadata": {},
     "output_type": "execute_result"
    }
   ],
   "source": [
    "diabetes.isna().sum()"
   ]
  },
  {
   "cell_type": "code",
   "execution_count": 8,
   "id": "bdf1d5da",
   "metadata": {},
   "outputs": [
    {
     "data": {
      "text/html": [
       "<div>\n",
       "<style scoped>\n",
       "    .dataframe tbody tr th:only-of-type {\n",
       "        vertical-align: middle;\n",
       "    }\n",
       "\n",
       "    .dataframe tbody tr th {\n",
       "        vertical-align: top;\n",
       "    }\n",
       "\n",
       "    .dataframe thead th {\n",
       "        text-align: right;\n",
       "    }\n",
       "</style>\n",
       "<table border=\"1\" class=\"dataframe\">\n",
       "  <thead>\n",
       "    <tr style=\"text-align: right;\">\n",
       "      <th></th>\n",
       "      <th>PatientID</th>\n",
       "      <th>Pregnancies</th>\n",
       "      <th>PlasmaGlucose</th>\n",
       "      <th>DiastolicBloodPressure</th>\n",
       "      <th>TricepsThickness</th>\n",
       "      <th>SerumInsulin</th>\n",
       "      <th>BMI</th>\n",
       "      <th>DiabetesPedigree</th>\n",
       "      <th>Age</th>\n",
       "      <th>Diabetic</th>\n",
       "    </tr>\n",
       "  </thead>\n",
       "  <tbody>\n",
       "    <tr>\n",
       "      <th>0</th>\n",
       "      <td>1354778</td>\n",
       "      <td>0</td>\n",
       "      <td>171</td>\n",
       "      <td>80</td>\n",
       "      <td>34</td>\n",
       "      <td>23</td>\n",
       "      <td>43.509726</td>\n",
       "      <td>1.213191</td>\n",
       "      <td>21</td>\n",
       "      <td>0</td>\n",
       "    </tr>\n",
       "    <tr>\n",
       "      <th>1</th>\n",
       "      <td>1147438</td>\n",
       "      <td>8</td>\n",
       "      <td>92</td>\n",
       "      <td>93</td>\n",
       "      <td>47</td>\n",
       "      <td>36</td>\n",
       "      <td>21.240576</td>\n",
       "      <td>0.158365</td>\n",
       "      <td>23</td>\n",
       "      <td>0</td>\n",
       "    </tr>\n",
       "    <tr>\n",
       "      <th>2</th>\n",
       "      <td>1640031</td>\n",
       "      <td>7</td>\n",
       "      <td>115</td>\n",
       "      <td>47</td>\n",
       "      <td>52</td>\n",
       "      <td>35</td>\n",
       "      <td>41.511523</td>\n",
       "      <td>0.079019</td>\n",
       "      <td>23</td>\n",
       "      <td>0</td>\n",
       "    </tr>\n",
       "    <tr>\n",
       "      <th>3</th>\n",
       "      <td>1883350</td>\n",
       "      <td>9</td>\n",
       "      <td>103</td>\n",
       "      <td>78</td>\n",
       "      <td>25</td>\n",
       "      <td>304</td>\n",
       "      <td>29.582192</td>\n",
       "      <td>1.282870</td>\n",
       "      <td>43</td>\n",
       "      <td>1</td>\n",
       "    </tr>\n",
       "    <tr>\n",
       "      <th>4</th>\n",
       "      <td>1424119</td>\n",
       "      <td>1</td>\n",
       "      <td>85</td>\n",
       "      <td>59</td>\n",
       "      <td>27</td>\n",
       "      <td>35</td>\n",
       "      <td>42.604536</td>\n",
       "      <td>0.549542</td>\n",
       "      <td>22</td>\n",
       "      <td>0</td>\n",
       "    </tr>\n",
       "    <tr>\n",
       "      <th>5</th>\n",
       "      <td>1619297</td>\n",
       "      <td>0</td>\n",
       "      <td>82</td>\n",
       "      <td>92</td>\n",
       "      <td>9</td>\n",
       "      <td>253</td>\n",
       "      <td>19.724160</td>\n",
       "      <td>0.103424</td>\n",
       "      <td>26</td>\n",
       "      <td>0</td>\n",
       "    </tr>\n",
       "    <tr>\n",
       "      <th>6</th>\n",
       "      <td>1660149</td>\n",
       "      <td>0</td>\n",
       "      <td>133</td>\n",
       "      <td>47</td>\n",
       "      <td>19</td>\n",
       "      <td>227</td>\n",
       "      <td>21.941357</td>\n",
       "      <td>0.174160</td>\n",
       "      <td>21</td>\n",
       "      <td>0</td>\n",
       "    </tr>\n",
       "    <tr>\n",
       "      <th>7</th>\n",
       "      <td>1458769</td>\n",
       "      <td>0</td>\n",
       "      <td>67</td>\n",
       "      <td>87</td>\n",
       "      <td>43</td>\n",
       "      <td>36</td>\n",
       "      <td>18.277723</td>\n",
       "      <td>0.236165</td>\n",
       "      <td>26</td>\n",
       "      <td>0</td>\n",
       "    </tr>\n",
       "    <tr>\n",
       "      <th>8</th>\n",
       "      <td>1201647</td>\n",
       "      <td>8</td>\n",
       "      <td>80</td>\n",
       "      <td>95</td>\n",
       "      <td>33</td>\n",
       "      <td>24</td>\n",
       "      <td>26.624929</td>\n",
       "      <td>0.443947</td>\n",
       "      <td>53</td>\n",
       "      <td>1</td>\n",
       "    </tr>\n",
       "    <tr>\n",
       "      <th>9</th>\n",
       "      <td>1403912</td>\n",
       "      <td>1</td>\n",
       "      <td>72</td>\n",
       "      <td>31</td>\n",
       "      <td>40</td>\n",
       "      <td>42</td>\n",
       "      <td>36.889576</td>\n",
       "      <td>0.103944</td>\n",
       "      <td>26</td>\n",
       "      <td>0</td>\n",
       "    </tr>\n",
       "    <tr>\n",
       "      <th>10</th>\n",
       "      <td>1943830</td>\n",
       "      <td>1</td>\n",
       "      <td>88</td>\n",
       "      <td>86</td>\n",
       "      <td>11</td>\n",
       "      <td>58</td>\n",
       "      <td>43.225041</td>\n",
       "      <td>0.230285</td>\n",
       "      <td>22</td>\n",
       "      <td>0</td>\n",
       "    </tr>\n",
       "    <tr>\n",
       "      <th>11</th>\n",
       "      <td>1824483</td>\n",
       "      <td>3</td>\n",
       "      <td>94</td>\n",
       "      <td>96</td>\n",
       "      <td>31</td>\n",
       "      <td>36</td>\n",
       "      <td>21.294479</td>\n",
       "      <td>0.259020</td>\n",
       "      <td>23</td>\n",
       "      <td>0</td>\n",
       "    </tr>\n",
       "    <tr>\n",
       "      <th>12</th>\n",
       "      <td>1848869</td>\n",
       "      <td>5</td>\n",
       "      <td>114</td>\n",
       "      <td>101</td>\n",
       "      <td>43</td>\n",
       "      <td>70</td>\n",
       "      <td>36.495320</td>\n",
       "      <td>0.079190</td>\n",
       "      <td>38</td>\n",
       "      <td>1</td>\n",
       "    </tr>\n",
       "    <tr>\n",
       "      <th>13</th>\n",
       "      <td>1669231</td>\n",
       "      <td>7</td>\n",
       "      <td>110</td>\n",
       "      <td>82</td>\n",
       "      <td>16</td>\n",
       "      <td>44</td>\n",
       "      <td>36.089293</td>\n",
       "      <td>0.281276</td>\n",
       "      <td>25</td>\n",
       "      <td>0</td>\n",
       "    </tr>\n",
       "    <tr>\n",
       "      <th>14</th>\n",
       "      <td>1683688</td>\n",
       "      <td>0</td>\n",
       "      <td>148</td>\n",
       "      <td>58</td>\n",
       "      <td>11</td>\n",
       "      <td>179</td>\n",
       "      <td>39.192076</td>\n",
       "      <td>0.160829</td>\n",
       "      <td>45</td>\n",
       "      <td>0</td>\n",
       "    </tr>\n",
       "    <tr>\n",
       "      <th>15</th>\n",
       "      <td>1738587</td>\n",
       "      <td>3</td>\n",
       "      <td>109</td>\n",
       "      <td>77</td>\n",
       "      <td>46</td>\n",
       "      <td>61</td>\n",
       "      <td>19.847312</td>\n",
       "      <td>0.204345</td>\n",
       "      <td>21</td>\n",
       "      <td>1</td>\n",
       "    </tr>\n",
       "    <tr>\n",
       "      <th>16</th>\n",
       "      <td>1884264</td>\n",
       "      <td>3</td>\n",
       "      <td>106</td>\n",
       "      <td>64</td>\n",
       "      <td>25</td>\n",
       "      <td>51</td>\n",
       "      <td>29.044573</td>\n",
       "      <td>0.589188</td>\n",
       "      <td>42</td>\n",
       "      <td>1</td>\n",
       "    </tr>\n",
       "    <tr>\n",
       "      <th>17</th>\n",
       "      <td>1485251</td>\n",
       "      <td>1</td>\n",
       "      <td>156</td>\n",
       "      <td>53</td>\n",
       "      <td>15</td>\n",
       "      <td>226</td>\n",
       "      <td>29.786192</td>\n",
       "      <td>0.203824</td>\n",
       "      <td>41</td>\n",
       "      <td>1</td>\n",
       "    </tr>\n",
       "    <tr>\n",
       "      <th>18</th>\n",
       "      <td>1536832</td>\n",
       "      <td>8</td>\n",
       "      <td>117</td>\n",
       "      <td>39</td>\n",
       "      <td>32</td>\n",
       "      <td>164</td>\n",
       "      <td>21.230996</td>\n",
       "      <td>0.089363</td>\n",
       "      <td>25</td>\n",
       "      <td>0</td>\n",
       "    </tr>\n",
       "    <tr>\n",
       "      <th>19</th>\n",
       "      <td>1438701</td>\n",
       "      <td>3</td>\n",
       "      <td>102</td>\n",
       "      <td>100</td>\n",
       "      <td>25</td>\n",
       "      <td>289</td>\n",
       "      <td>42.185720</td>\n",
       "      <td>0.175593</td>\n",
       "      <td>43</td>\n",
       "      <td>1</td>\n",
       "    </tr>\n",
       "  </tbody>\n",
       "</table>\n",
       "</div>"
      ],
      "text/plain": [
       "    PatientID  Pregnancies  PlasmaGlucose  DiastolicBloodPressure  \\\n",
       "0     1354778            0            171                      80   \n",
       "1     1147438            8             92                      93   \n",
       "2     1640031            7            115                      47   \n",
       "3     1883350            9            103                      78   \n",
       "4     1424119            1             85                      59   \n",
       "5     1619297            0             82                      92   \n",
       "6     1660149            0            133                      47   \n",
       "7     1458769            0             67                      87   \n",
       "8     1201647            8             80                      95   \n",
       "9     1403912            1             72                      31   \n",
       "10    1943830            1             88                      86   \n",
       "11    1824483            3             94                      96   \n",
       "12    1848869            5            114                     101   \n",
       "13    1669231            7            110                      82   \n",
       "14    1683688            0            148                      58   \n",
       "15    1738587            3            109                      77   \n",
       "16    1884264            3            106                      64   \n",
       "17    1485251            1            156                      53   \n",
       "18    1536832            8            117                      39   \n",
       "19    1438701            3            102                     100   \n",
       "\n",
       "    TricepsThickness  SerumInsulin        BMI  DiabetesPedigree  Age  Diabetic  \n",
       "0                 34            23  43.509726          1.213191   21         0  \n",
       "1                 47            36  21.240576          0.158365   23         0  \n",
       "2                 52            35  41.511523          0.079019   23         0  \n",
       "3                 25           304  29.582192          1.282870   43         1  \n",
       "4                 27            35  42.604536          0.549542   22         0  \n",
       "5                  9           253  19.724160          0.103424   26         0  \n",
       "6                 19           227  21.941357          0.174160   21         0  \n",
       "7                 43            36  18.277723          0.236165   26         0  \n",
       "8                 33            24  26.624929          0.443947   53         1  \n",
       "9                 40            42  36.889576          0.103944   26         0  \n",
       "10                11            58  43.225041          0.230285   22         0  \n",
       "11                31            36  21.294479          0.259020   23         0  \n",
       "12                43            70  36.495320          0.079190   38         1  \n",
       "13                16            44  36.089293          0.281276   25         0  \n",
       "14                11           179  39.192076          0.160829   45         0  \n",
       "15                46            61  19.847312          0.204345   21         1  \n",
       "16                25            51  29.044573          0.589188   42         1  \n",
       "17                15           226  29.786192          0.203824   41         1  \n",
       "18                32           164  21.230996          0.089363   25         0  \n",
       "19                25           289  42.185720          0.175593   43         1  "
      ]
     },
     "execution_count": 8,
     "metadata": {},
     "output_type": "execute_result"
    }
   ],
   "source": [
    "diabetes.head(20)"
   ]
  },
  {
   "cell_type": "code",
   "execution_count": 9,
   "id": "a703d3ee",
   "metadata": {},
   "outputs": [
    {
     "data": {
      "text/html": [
       "<div>\n",
       "<style scoped>\n",
       "    .dataframe tbody tr th:only-of-type {\n",
       "        vertical-align: middle;\n",
       "    }\n",
       "\n",
       "    .dataframe tbody tr th {\n",
       "        vertical-align: top;\n",
       "    }\n",
       "\n",
       "    .dataframe thead th {\n",
       "        text-align: right;\n",
       "    }\n",
       "</style>\n",
       "<table border=\"1\" class=\"dataframe\">\n",
       "  <thead>\n",
       "    <tr style=\"text-align: right;\">\n",
       "      <th></th>\n",
       "      <th>PatientID</th>\n",
       "      <th>Pregnancies</th>\n",
       "      <th>PlasmaGlucose</th>\n",
       "      <th>DiastolicBloodPressure</th>\n",
       "      <th>TricepsThickness</th>\n",
       "      <th>SerumInsulin</th>\n",
       "      <th>BMI</th>\n",
       "      <th>DiabetesPedigree</th>\n",
       "      <th>Age</th>\n",
       "      <th>Diabetic</th>\n",
       "    </tr>\n",
       "  </thead>\n",
       "  <tbody>\n",
       "    <tr>\n",
       "      <th>count</th>\n",
       "      <td>1.500000e+04</td>\n",
       "      <td>15000.000000</td>\n",
       "      <td>15000.000000</td>\n",
       "      <td>15000.000000</td>\n",
       "      <td>15000.000000</td>\n",
       "      <td>15000.000000</td>\n",
       "      <td>15000.000000</td>\n",
       "      <td>15000.000000</td>\n",
       "      <td>15000.000000</td>\n",
       "      <td>15000.000000</td>\n",
       "    </tr>\n",
       "    <tr>\n",
       "      <th>mean</th>\n",
       "      <td>1.502922e+06</td>\n",
       "      <td>3.224533</td>\n",
       "      <td>107.856867</td>\n",
       "      <td>71.220667</td>\n",
       "      <td>28.814000</td>\n",
       "      <td>137.852133</td>\n",
       "      <td>31.509646</td>\n",
       "      <td>0.398968</td>\n",
       "      <td>30.137733</td>\n",
       "      <td>0.333333</td>\n",
       "    </tr>\n",
       "    <tr>\n",
       "      <th>std</th>\n",
       "      <td>2.892534e+05</td>\n",
       "      <td>3.391020</td>\n",
       "      <td>31.981975</td>\n",
       "      <td>16.758716</td>\n",
       "      <td>14.555716</td>\n",
       "      <td>133.068252</td>\n",
       "      <td>9.759000</td>\n",
       "      <td>0.377944</td>\n",
       "      <td>12.089703</td>\n",
       "      <td>0.471420</td>\n",
       "    </tr>\n",
       "    <tr>\n",
       "      <th>min</th>\n",
       "      <td>1.000038e+06</td>\n",
       "      <td>0.000000</td>\n",
       "      <td>44.000000</td>\n",
       "      <td>24.000000</td>\n",
       "      <td>7.000000</td>\n",
       "      <td>14.000000</td>\n",
       "      <td>18.200512</td>\n",
       "      <td>0.078044</td>\n",
       "      <td>21.000000</td>\n",
       "      <td>0.000000</td>\n",
       "    </tr>\n",
       "    <tr>\n",
       "      <th>25%</th>\n",
       "      <td>1.252866e+06</td>\n",
       "      <td>0.000000</td>\n",
       "      <td>84.000000</td>\n",
       "      <td>58.000000</td>\n",
       "      <td>15.000000</td>\n",
       "      <td>39.000000</td>\n",
       "      <td>21.259887</td>\n",
       "      <td>0.137743</td>\n",
       "      <td>22.000000</td>\n",
       "      <td>0.000000</td>\n",
       "    </tr>\n",
       "    <tr>\n",
       "      <th>50%</th>\n",
       "      <td>1.505508e+06</td>\n",
       "      <td>2.000000</td>\n",
       "      <td>104.000000</td>\n",
       "      <td>72.000000</td>\n",
       "      <td>31.000000</td>\n",
       "      <td>83.000000</td>\n",
       "      <td>31.767940</td>\n",
       "      <td>0.200297</td>\n",
       "      <td>24.000000</td>\n",
       "      <td>0.000000</td>\n",
       "    </tr>\n",
       "    <tr>\n",
       "      <th>75%</th>\n",
       "      <td>1.755205e+06</td>\n",
       "      <td>6.000000</td>\n",
       "      <td>129.000000</td>\n",
       "      <td>85.000000</td>\n",
       "      <td>41.000000</td>\n",
       "      <td>195.000000</td>\n",
       "      <td>39.259692</td>\n",
       "      <td>0.616285</td>\n",
       "      <td>35.000000</td>\n",
       "      <td>1.000000</td>\n",
       "    </tr>\n",
       "    <tr>\n",
       "      <th>max</th>\n",
       "      <td>1.999997e+06</td>\n",
       "      <td>14.000000</td>\n",
       "      <td>192.000000</td>\n",
       "      <td>117.000000</td>\n",
       "      <td>93.000000</td>\n",
       "      <td>799.000000</td>\n",
       "      <td>56.034628</td>\n",
       "      <td>2.301594</td>\n",
       "      <td>77.000000</td>\n",
       "      <td>1.000000</td>\n",
       "    </tr>\n",
       "  </tbody>\n",
       "</table>\n",
       "</div>"
      ],
      "text/plain": [
       "          PatientID   Pregnancies  PlasmaGlucose  DiastolicBloodPressure  \\\n",
       "count  1.500000e+04  15000.000000   15000.000000            15000.000000   \n",
       "mean   1.502922e+06      3.224533     107.856867               71.220667   \n",
       "std    2.892534e+05      3.391020      31.981975               16.758716   \n",
       "min    1.000038e+06      0.000000      44.000000               24.000000   \n",
       "25%    1.252866e+06      0.000000      84.000000               58.000000   \n",
       "50%    1.505508e+06      2.000000     104.000000               72.000000   \n",
       "75%    1.755205e+06      6.000000     129.000000               85.000000   \n",
       "max    1.999997e+06     14.000000     192.000000              117.000000   \n",
       "\n",
       "       TricepsThickness  SerumInsulin           BMI  DiabetesPedigree  \\\n",
       "count      15000.000000  15000.000000  15000.000000      15000.000000   \n",
       "mean          28.814000    137.852133     31.509646          0.398968   \n",
       "std           14.555716    133.068252      9.759000          0.377944   \n",
       "min            7.000000     14.000000     18.200512          0.078044   \n",
       "25%           15.000000     39.000000     21.259887          0.137743   \n",
       "50%           31.000000     83.000000     31.767940          0.200297   \n",
       "75%           41.000000    195.000000     39.259692          0.616285   \n",
       "max           93.000000    799.000000     56.034628          2.301594   \n",
       "\n",
       "                Age      Diabetic  \n",
       "count  15000.000000  15000.000000  \n",
       "mean      30.137733      0.333333  \n",
       "std       12.089703      0.471420  \n",
       "min       21.000000      0.000000  \n",
       "25%       22.000000      0.000000  \n",
       "50%       24.000000      0.000000  \n",
       "75%       35.000000      1.000000  \n",
       "max       77.000000      1.000000  "
      ]
     },
     "execution_count": 9,
     "metadata": {},
     "output_type": "execute_result"
    }
   ],
   "source": [
    "diabetes.describe()"
   ]
  },
  {
   "cell_type": "code",
   "execution_count": 10,
   "id": "e699bd9c",
   "metadata": {},
   "outputs": [
    {
     "data": {
      "text/plain": [
       "0.014098728879081332"
      ]
     },
     "execution_count": 10,
     "metadata": {},
     "output_type": "execute_result"
    }
   ],
   "source": [
    "diabetes[\"DiastolicBloodPressure\"].corr(diabetes[\"DiabetesPedigree\"])"
   ]
  },
  {
   "cell_type": "code",
   "execution_count": 11,
   "id": "966aceb5",
   "metadata": {},
   "outputs": [],
   "source": [
    "x = diabetes[[\"Pregnancies\", \"PlasmaGlucose\", \"DiastolicBloodPressure\", \"TricepsThickness\", \"SerumInsulin\", \"BMI\", \"DiabetesPedigree\", \"Age\"]].values\n",
    "y = diabetes[\"Diabetic\"].values"
   ]
  },
  {
   "cell_type": "code",
   "execution_count": 12,
   "id": "925f74b3",
   "metadata": {},
   "outputs": [
    {
     "data": {
      "text/plain": [
       "array([[0.00000000e+00, 1.71000000e+02, 8.00000000e+01, ...,\n",
       "        4.35097259e+01, 1.21319135e+00, 2.10000000e+01],\n",
       "       [8.00000000e+00, 9.20000000e+01, 9.30000000e+01, ...,\n",
       "        2.12405757e+01, 1.58364981e-01, 2.30000000e+01],\n",
       "       [7.00000000e+00, 1.15000000e+02, 4.70000000e+01, ...,\n",
       "        4.15115235e+01, 7.90185680e-02, 2.30000000e+01],\n",
       "       ...,\n",
       "       [0.00000000e+00, 9.30000000e+01, 8.90000000e+01, ...,\n",
       "        1.86906831e+01, 4.27048955e-01, 2.40000000e+01],\n",
       "       [0.00000000e+00, 1.32000000e+02, 9.80000000e+01, ...,\n",
       "        1.97916451e+01, 3.02257208e-01, 2.30000000e+01],\n",
       "       [3.00000000e+00, 1.14000000e+02, 6.50000000e+01, ...,\n",
       "        3.62154365e+01, 1.47362850e-01, 3.40000000e+01]])"
      ]
     },
     "execution_count": 12,
     "metadata": {},
     "output_type": "execute_result"
    }
   ],
   "source": [
    "x"
   ]
  },
  {
   "cell_type": "code",
   "execution_count": 13,
   "id": "8297128f",
   "metadata": {},
   "outputs": [
    {
     "data": {
      "text/plain": [
       "array([0, 0, 0, ..., 0, 0, 1], dtype=int64)"
      ]
     },
     "execution_count": 13,
     "metadata": {},
     "output_type": "execute_result"
    }
   ],
   "source": [
    "y"
   ]
  },
  {
   "cell_type": "code",
   "execution_count": 14,
   "id": "86e0c006",
   "metadata": {},
   "outputs": [
    {
     "name": "stdout",
     "output_type": "stream",
     "text": [
      "patient: 1 \n",
      " Feature: [0.0, 171.0, 80.0, 34.0, 23.0, 43.50972593, 1.213191354, 21.0] \n",
      " Label: 0 \n",
      "\n",
      "patient: 2 \n",
      " Feature: [8.0, 92.0, 93.0, 47.0, 36.0, 21.24057571, 0.158364981, 23.0] \n",
      " Label: 0 \n",
      "\n",
      "patient: 3 \n",
      " Feature: [7.0, 115.0, 47.0, 52.0, 35.0, 41.51152348, 0.079018568, 23.0] \n",
      " Label: 0 \n",
      "\n",
      "patient: 4 \n",
      " Feature: [9.0, 103.0, 78.0, 25.0, 304.0, 29.58219193, 1.282869847, 43.0] \n",
      " Label: 1 \n",
      "\n",
      "patient: 5 \n",
      " Feature: [1.0, 85.0, 59.0, 27.0, 35.0, 42.60453585, 0.549541871, 22.0] \n",
      " Label: 0 \n",
      "\n",
      "patient: 6 \n",
      " Feature: [0.0, 82.0, 92.0, 9.0, 253.0, 19.72416021, 0.103424498, 26.0] \n",
      " Label: 0 \n",
      "\n",
      "patient: 7 \n",
      " Feature: [0.0, 133.0, 47.0, 19.0, 227.0, 21.94135672, 0.174159779, 21.0] \n",
      " Label: 0 \n",
      "\n",
      "patient: 8 \n",
      " Feature: [0.0, 67.0, 87.0, 43.0, 36.0, 18.2777226, 0.23616494, 26.0] \n",
      " Label: 0 \n",
      "\n",
      "patient: 9 \n",
      " Feature: [8.0, 80.0, 95.0, 33.0, 24.0, 26.62492885, 0.443947388, 53.0] \n",
      " Label: 1 \n",
      "\n",
      "patient: 10 \n",
      " Feature: [1.0, 72.0, 31.0, 40.0, 42.0, 36.88957571, 0.103943637, 26.0] \n",
      " Label: 0 \n",
      "\n"
     ]
    }
   ],
   "source": [
    "for i in range(0, 10):\n",
    "    print(\"patient:\", str(i + 1), \"\\n Feature:\", list(x[i]), \"\\n Label:\", y[i], \"\\n\")"
   ]
  },
  {
   "cell_type": "code",
   "execution_count": 15,
   "id": "d4d63ee6",
   "metadata": {},
   "outputs": [],
   "source": [
    "import matplotlib.pyplot as plt\n",
    "%matplotlib inline"
   ]
  },
  {
   "cell_type": "code",
   "execution_count": 16,
   "id": "1bf6aa5c",
   "metadata": {
    "scrolled": false
   },
   "outputs": [
    {
     "data": {
      "image/png": "[encoded data removed]",
      "text/plain": [
       "<Figure size 432x432 with 1 Axes>"
      ]
     },
     "metadata": {
      "needs_background": "light"
     },
     "output_type": "display_data"
    },
    {
     "data": {
      "image/png": "[encoded data removed]",
      "text/plain": [
       "<Figure size 432x432 with 1 Axes>"
      ]
     },
     "metadata": {
      "needs_background": "light"
     },
     "output_type": "display_data"
    },
    {
     "data": {
      "image/png": "[encoded data removed]",
      "text/plain": [
       "<Figure size 432x432 with 1 Axes>"
      ]
     },
     "metadata": {
      "needs_background": "light"
     },
     "output_type": "display_data"
    },
    {
     "data": {
      "image/png": "[encoded data removed]",
      "text/plain": [
       "<Figure size 432x432 with 1 Axes>"
      ]
     },
     "metadata": {
      "needs_background": "light"
     },
     "output_type": "display_data"
    },
    {
     "data": {
      "image/png": "[encoded data removed]",
      "text/plain": [
       "<Figure size 432x432 with 1 Axes>"
      ]
     },
     "metadata": {
      "needs_background": "light"
     },
     "output_type": "display_data"
    },
    {
     "data": {
      "image/png": "[encoded data removed]",
      "text/plain": [
       "<Figure size 432x432 with 1 Axes>"
      ]
     },
     "metadata": {
      "needs_background": "light"
     },
     "output_type": "display_data"
    },
    {
     "data": {
      "image/png": "[encoded data removed]",
      "text/plain": [
       "<Figure size 432x432 with 1 Axes>"
      ]
     },
     "metadata": {
      "needs_background": "light"
     },
     "output_type": "display_data"
    },
    {
     "data": {
      "image/png": "[encoded data removed]",
      "text/plain": [
       "<Figure size 432x432 with 1 Axes>"
      ]
     },
     "metadata": {
      "needs_background": "light"
     },
     "output_type": "display_data"
    }
   ],
   "source": [
    "features = [\"Pregnancies\", \"PlasmaGlucose\", \"DiastolicBloodPressure\", \"TricepsThickness\", \"SerumInsulin\", \"BMI\", \"DiabetesPedigree\", \"Age\"]\n",
    "label = \"Diabetic\"\n",
    "\n",
    "for col in features:\n",
    "    diabetes.boxplot(column = col, by = label, figsize = (6,6))\n",
    "    plt.title(col)\n",
    "plt.show();"
   ]
  },
  {
   "cell_type": "code",
   "execution_count": 17,
   "id": "ffceebc0",
   "metadata": {},
   "outputs": [],
   "source": [
    "from sklearn.model_selection import train_test_split"
   ]
  },
  {
   "cell_type": "code",
   "execution_count": 18,
   "id": "e534efe5",
   "metadata": {},
   "outputs": [],
   "source": [
    "x_train, x_test, y_train, y_test = train_test_split(x, y, test_size = 0.20, random_state = 42)"
   ]
  },
  {
   "cell_type": "code",
   "execution_count": 19,
   "id": "b405483d",
   "metadata": {},
   "outputs": [
    {
     "name": "stdout",
     "output_type": "stream",
     "text": [
      "Training Classes: 12000 \n",
      " Test Size: 3000\n"
     ]
    }
   ],
   "source": [
    "print(\"Training Classes:\", x_train.shape[0], \"\\n Test Size:\", x_test.shape[0])"
   ]
  },
  {
   "cell_type": "code",
   "execution_count": 20,
   "id": "99b8b2d4",
   "metadata": {},
   "outputs": [
    {
     "data": {
      "text/plain": [
       "(12000, 8)"
      ]
     },
     "execution_count": 20,
     "metadata": {},
     "output_type": "execute_result"
    }
   ],
   "source": [
    "x_train.shape"
   ]
  },
  {
   "cell_type": "code",
   "execution_count": 21,
   "id": "e8b180d7",
   "metadata": {},
   "outputs": [],
   "source": [
    "from sklearn.linear_model import LogisticRegression"
   ]
  },
  {
   "cell_type": "code",
   "execution_count": 22,
   "id": "c2be1041",
   "metadata": {},
   "outputs": [],
   "source": [
    "reg = 0.01  # to avoid overfitting the model on the training data, we use regularization rate"
   ]
  },
  {
   "cell_type": "code",
   "execution_count": 23,
   "id": "d6b004e9",
   "metadata": {},
   "outputs": [],
   "source": [
    "model = LogisticRegression(C = 1/reg, solver = \"liblinear\")"
   ]
  },
  {
   "cell_type": "code",
   "execution_count": 24,
   "id": "f303c6bc",
   "metadata": {},
   "outputs": [
    {
     "data": {
      "text/plain": [
       "LogisticRegression(C=100.0, solver='liblinear')"
      ]
     },
     "execution_count": 24,
     "metadata": {},
     "output_type": "execute_result"
    }
   ],
   "source": [
    "model.fit(x_train, y_train)"
   ]
  },
  {
   "cell_type": "code",
   "execution_count": 25,
   "id": "f9512590",
   "metadata": {},
   "outputs": [],
   "source": [
    "prediction = model.predict(x_test)"
   ]
  },
  {
   "cell_type": "code",
   "execution_count": 26,
   "id": "4216ab03",
   "metadata": {},
   "outputs": [
    {
     "name": "stdout",
     "output_type": "stream",
     "text": [
      "Prediction:    [0 0 0 ... 1 0 0]\n",
      "Actual label:  [0 1 0 ... 0 0 0]\n"
     ]
    }
   ],
   "source": [
    "print(\"Prediction:   \", prediction)\n",
    "print(\"Actual label: \", y_test)"
   ]
  },
  {
   "cell_type": "code",
   "execution_count": 27,
   "id": "c8a33085",
   "metadata": {},
   "outputs": [],
   "source": [
    "from sklearn.metrics import accuracy_score"
   ]
  },
  {
   "cell_type": "code",
   "execution_count": 28,
   "id": "8e915eda",
   "metadata": {},
   "outputs": [],
   "source": [
    "accuracy = accuracy_score(y_test, prediction)"
   ]
  },
  {
   "cell_type": "code",
   "execution_count": 29,
   "id": "00be7f54",
   "metadata": {},
   "outputs": [
    {
     "name": "stdout",
     "output_type": "stream",
     "text": [
      "Accuracy score:  0.7896666666666666\n"
     ]
    }
   ],
   "source": [
    "print(\"Accuracy score: \", accuracy)"
   ]
  },
  {
   "cell_type": "code",
   "execution_count": 30,
   "id": "ced4bacb",
   "metadata": {},
   "outputs": [],
   "source": [
    "from sklearn.metrics import classification_report"
   ]
  },
  {
   "cell_type": "code",
   "execution_count": 31,
   "id": "94938c26",
   "metadata": {},
   "outputs": [
    {
     "name": "stdout",
     "output_type": "stream",
     "text": [
      "              precision    recall  f1-score   support\n",
      "\n",
      "           0       0.81      0.90      0.85      2014\n",
      "           1       0.73      0.57      0.64       986\n",
      "\n",
      "    accuracy                           0.79      3000\n",
      "   macro avg       0.77      0.73      0.75      3000\n",
      "weighted avg       0.78      0.79      0.78      3000\n",
      "\n"
     ]
    }
   ],
   "source": [
    "print(classification_report(y_test, prediction))"
   ]
  },
  {
   "cell_type": "code",
   "execution_count": 32,
   "id": "2d14679e",
   "metadata": {},
   "outputs": [],
   "source": [
    "#precision probably mean from the predictions made for a class(like 1), whats the proportion of 1. while...\n",
    "#recall means how many of this predicted class(like 1) did the model identify from the test dataset"
   ]
  },
  {
   "cell_type": "code",
   "execution_count": 33,
   "id": "4da5c12a",
   "metadata": {},
   "outputs": [],
   "source": [
    "from sklearn.metrics import precision_score, recall_score"
   ]
  },
  {
   "cell_type": "code",
   "execution_count": 34,
   "id": "443c3bf2",
   "metadata": {},
   "outputs": [],
   "source": [
    "precision = precision_score(y_test, prediction)"
   ]
  },
  {
   "cell_type": "code",
   "execution_count": 35,
   "id": "cf4a9900",
   "metadata": {},
   "outputs": [],
   "source": [
    "recall = recall_score(y_test, prediction)"
   ]
  },
  {
   "cell_type": "code",
   "execution_count": 36,
   "id": "c1687d41",
   "metadata": {},
   "outputs": [
    {
     "name": "stdout",
     "output_type": "stream",
     "text": [
      "Precision:  0.7326343381389253\n",
      "Recall score:  0.5669371196754563\n"
     ]
    }
   ],
   "source": [
    "print(\"Precision: \", precision)\n",
    "print(\"Recall score: \", recall)"
   ]
  },
  {
   "cell_type": "code",
   "execution_count": 37,
   "id": "ba00676a",
   "metadata": {},
   "outputs": [],
   "source": [
    "from sklearn.metrics import confusion_matrix"
   ]
  },
  {
   "cell_type": "code",
   "execution_count": 38,
   "id": "2274e9ff",
   "metadata": {},
   "outputs": [],
   "source": [
    "cm = confusion_matrix(y_test, prediction)"
   ]
  },
  {
   "cell_type": "code",
   "execution_count": 39,
   "id": "a7f1db08",
   "metadata": {},
   "outputs": [
    {
     "data": {
      "text/plain": [
       "array([[1810,  204],\n",
       "       [ 427,  559]], dtype=int64)"
      ]
     },
     "execution_count": 39,
     "metadata": {},
     "output_type": "execute_result"
    }
   ],
   "source": [
    "cm"
   ]
  },
  {
   "cell_type": "code",
   "execution_count": 40,
   "id": "4426e20d",
   "metadata": {},
   "outputs": [],
   "source": [
    "y_score = model.predict_proba(x_test)"
   ]
  },
  {
   "cell_type": "code",
   "execution_count": 41,
   "id": "2b274967",
   "metadata": {},
   "outputs": [
    {
     "data": {
      "text/plain": [
       "array([[0.61426043, 0.38573957],\n",
       "       [0.93231865, 0.06768135],\n",
       "       [0.92101623, 0.07898377],\n",
       "       ...,\n",
       "       [0.22921812, 0.77078188],\n",
       "       [0.80654664, 0.19345336],\n",
       "       [0.96636518, 0.03363482]])"
      ]
     },
     "execution_count": 41,
     "metadata": {},
     "output_type": "execute_result"
    }
   ],
   "source": [
    "y_score   #its results as [\"no\", \"yes\"]"
   ]
  },
  {
   "cell_type": "code",
   "execution_count": 42,
   "id": "ba0d9bc6",
   "metadata": {},
   "outputs": [
    {
     "data": {
      "text/plain": [
       "array([0.38573957, 0.06768135, 0.07898377, ..., 0.77078188, 0.19345336,\n",
       "       0.03363482])"
      ]
     },
     "execution_count": 42,
     "metadata": {},
     "output_type": "execute_result"
    }
   ],
   "source": [
    "y_score[:, 1]"
   ]
  },
  {
   "cell_type": "code",
   "execution_count": 43,
   "id": "9f088461",
   "metadata": {},
   "outputs": [
    {
     "data": {
      "text/plain": [
       "array([0.61426043, 0.93231865, 0.92101623, ..., 0.22921812, 0.80654664,\n",
       "       0.96636518])"
      ]
     },
     "execution_count": 43,
     "metadata": {},
     "output_type": "execute_result"
    }
   ],
   "source": [
    "y_score[:, 0]"
   ]
  },
  {
   "cell_type": "code",
   "execution_count": 44,
   "id": "3511e35a",
   "metadata": {},
   "outputs": [],
   "source": [
    "from sklearn.metrics import roc_curve\n",
    "import matplotlib\n",
    "import matplotlib.pyplot as plt\n",
    "%matplotlib inline"
   ]
  },
  {
   "cell_type": "code",
   "execution_count": 45,
   "id": "b1dc4c32",
   "metadata": {},
   "outputs": [],
   "source": [
    "fpr, tpr, thresholds = roc_curve(y_test, y_score[:, 1])"
   ]
  },
  {
   "cell_type": "code",
   "execution_count": 46,
   "id": "c5865440",
   "metadata": {},
   "outputs": [
    {
     "data": {
      "text/plain": [
       "array([0.00000000e+00, 0.00000000e+00, 0.00000000e+00, 4.96524330e-04,\n",
       "       4.96524330e-04, 9.93048659e-04, 9.93048659e-04, 1.48957299e-03,\n",
       "       1.48957299e-03, 1.98609732e-03, 1.98609732e-03, 2.48262165e-03,\n",
       "       2.48262165e-03, 2.97914598e-03, 2.97914598e-03, 3.47567031e-03,\n",
       "       3.47567031e-03, 3.97219464e-03, 3.97219464e-03, 4.46871897e-03,\n",
       "       4.46871897e-03, 4.96524330e-03, 4.96524330e-03, 5.95829196e-03,\n",
       "       5.95829196e-03, 6.45481629e-03, 6.45481629e-03, 6.95134062e-03,\n",
       "       6.95134062e-03, 7.44786495e-03, 7.44786495e-03, 7.94438928e-03,\n",
       "       7.94438928e-03, 8.44091360e-03, 8.44091360e-03, 8.93743793e-03,\n",
       "       8.93743793e-03, 9.43396226e-03, 9.43396226e-03, 1.09235353e-02,\n",
       "       1.09235353e-02, 1.14200596e-02, 1.14200596e-02, 1.19165839e-02,\n",
       "       1.19165839e-02, 1.24131082e-02, 1.24131082e-02, 1.29096326e-02,\n",
       "       1.29096326e-02, 1.34061569e-02, 1.34061569e-02, 1.39026812e-02,\n",
       "       1.39026812e-02, 1.58887786e-02, 1.58887786e-02, 1.63853029e-02,\n",
       "       1.63853029e-02, 1.68818272e-02, 1.68818272e-02, 1.73783515e-02,\n",
       "       1.73783515e-02, 1.78748759e-02, 1.78748759e-02, 1.83714002e-02,\n",
       "       1.83714002e-02, 1.88679245e-02, 1.88679245e-02, 1.93644489e-02,\n",
       "       1.93644489e-02, 2.03574975e-02, 2.03574975e-02, 2.08540218e-02,\n",
       "       2.08540218e-02, 2.13505462e-02, 2.13505462e-02, 2.18470705e-02,\n",
       "       2.18470705e-02, 2.23435948e-02, 2.23435948e-02, 2.28401192e-02,\n",
       "       2.28401192e-02, 2.38331678e-02, 2.38331678e-02, 2.43296922e-02,\n",
       "       2.43296922e-02, 2.48262165e-02, 2.48262165e-02, 2.53227408e-02,\n",
       "       2.53227408e-02, 2.58192651e-02, 2.58192651e-02, 2.63157895e-02,\n",
       "       2.63157895e-02, 2.68123138e-02, 2.68123138e-02, 2.78053625e-02,\n",
       "       2.78053625e-02, 2.83018868e-02, 2.83018868e-02, 3.07845084e-02,\n",
       "       3.07845084e-02, 3.12810328e-02, 3.12810328e-02, 3.32671301e-02,\n",
       "       3.32671301e-02, 3.42601787e-02, 3.42601787e-02, 3.47567031e-02,\n",
       "       3.47567031e-02, 3.52532274e-02, 3.52532274e-02, 3.62462761e-02,\n",
       "       3.62462761e-02, 3.67428004e-02, 3.67428004e-02, 3.72393247e-02,\n",
       "       3.72393247e-02, 3.82323734e-02, 3.82323734e-02, 3.87288977e-02,\n",
       "       3.87288977e-02, 3.92254220e-02, 3.92254220e-02, 3.97219464e-02,\n",
       "       3.97219464e-02, 4.02184707e-02, 4.02184707e-02, 4.07149950e-02,\n",
       "       4.07149950e-02, 4.12115194e-02, 4.12115194e-02, 4.17080437e-02,\n",
       "       4.17080437e-02, 4.27010924e-02, 4.27010924e-02, 4.31976167e-02,\n",
       "       4.31976167e-02, 4.36941410e-02, 4.36941410e-02, 4.46871897e-02,\n",
       "       4.46871897e-02, 4.51837140e-02, 4.51837140e-02, 4.56802383e-02,\n",
       "       4.56802383e-02, 4.61767627e-02, 4.61767627e-02, 4.71698113e-02,\n",
       "       4.71698113e-02, 4.81628600e-02, 4.81628600e-02, 4.96524330e-02,\n",
       "       4.96524330e-02, 5.01489573e-02, 5.01489573e-02, 5.06454816e-02,\n",
       "       5.06454816e-02, 5.11420060e-02, 5.11420060e-02, 5.16385303e-02,\n",
       "       5.16385303e-02, 5.21350546e-02, 5.21350546e-02, 5.36246276e-02,\n",
       "       5.36246276e-02, 5.41211519e-02, 5.41211519e-02, 5.61072493e-02,\n",
       "       5.61072493e-02, 5.66037736e-02, 5.66037736e-02, 5.80933466e-02,\n",
       "       5.80933466e-02, 5.95829196e-02, 5.95829196e-02, 6.15690169e-02,\n",
       "       6.15690169e-02, 6.20655412e-02, 6.20655412e-02, 6.35551142e-02,\n",
       "       6.35551142e-02, 6.40516385e-02, 6.40516385e-02, 6.45481629e-02,\n",
       "       6.45481629e-02, 6.50446872e-02, 6.50446872e-02, 6.55412115e-02,\n",
       "       6.55412115e-02, 6.60377358e-02, 6.60377358e-02, 6.75273088e-02,\n",
       "       6.75273088e-02, 6.85203575e-02, 6.85203575e-02, 6.95134062e-02,\n",
       "       6.95134062e-02, 7.00099305e-02, 7.00099305e-02, 7.10029791e-02,\n",
       "       7.10029791e-02, 7.14995035e-02, 7.14995035e-02, 7.29890765e-02,\n",
       "       7.29890765e-02, 7.44786495e-02, 7.44786495e-02, 7.49751738e-02,\n",
       "       7.49751738e-02, 7.59682224e-02, 7.59682224e-02, 7.69612711e-02,\n",
       "       7.69612711e-02, 7.79543198e-02, 7.79543198e-02, 7.84508441e-02,\n",
       "       7.84508441e-02, 7.89473684e-02, 7.89473684e-02, 7.99404171e-02,\n",
       "       7.99404171e-02, 8.09334657e-02, 8.09334657e-02, 8.14299901e-02,\n",
       "       8.14299901e-02, 8.24230387e-02, 8.24230387e-02, 8.34160874e-02,\n",
       "       8.34160874e-02, 8.44091360e-02, 8.44091360e-02, 8.49056604e-02,\n",
       "       8.49056604e-02, 8.54021847e-02, 8.54021847e-02, 8.58987090e-02,\n",
       "       8.58987090e-02, 8.63952334e-02, 8.63952334e-02, 8.83813307e-02,\n",
       "       8.83813307e-02, 8.88778550e-02, 8.88778550e-02, 8.93743793e-02,\n",
       "       8.93743793e-02, 8.98709037e-02, 8.98709037e-02, 9.03674280e-02,\n",
       "       9.03674280e-02, 9.18570010e-02, 9.18570010e-02, 9.23535253e-02,\n",
       "       9.23535253e-02, 9.43396226e-02, 9.43396226e-02, 9.48361470e-02,\n",
       "       9.48361470e-02, 9.58291956e-02, 9.58291956e-02, 9.73187686e-02,\n",
       "       9.73187686e-02, 9.78152929e-02, 9.78152929e-02, 9.88083416e-02,\n",
       "       9.88083416e-02, 9.93048659e-02, 9.93048659e-02, 9.98013903e-02,\n",
       "       9.98013903e-02, 1.00297915e-01, 1.00297915e-01, 1.02780536e-01,\n",
       "       1.02780536e-01, 1.04270109e-01, 1.04270109e-01, 1.04766634e-01,\n",
       "       1.04766634e-01, 1.05263158e-01, 1.05263158e-01, 1.05759682e-01,\n",
       "       1.05759682e-01, 1.06752731e-01, 1.06752731e-01, 1.07249255e-01,\n",
       "       1.07249255e-01, 1.08242304e-01, 1.08242304e-01, 1.08738828e-01,\n",
       "       1.08738828e-01, 1.09235353e-01, 1.09235353e-01, 1.09731877e-01,\n",
       "       1.09731877e-01, 1.10724926e-01, 1.10724926e-01, 1.11717974e-01,\n",
       "       1.11717974e-01, 1.12711023e-01, 1.12711023e-01, 1.13207547e-01,\n",
       "       1.13207547e-01, 1.13704071e-01, 1.13704071e-01, 1.14200596e-01,\n",
       "       1.14200596e-01, 1.14697120e-01, 1.14697120e-01, 1.15193644e-01,\n",
       "       1.15193644e-01, 1.16683217e-01, 1.16683217e-01, 1.17179742e-01,\n",
       "       1.17179742e-01, 1.17676266e-01, 1.17676266e-01, 1.18669315e-01,\n",
       "       1.18669315e-01, 1.19165839e-01, 1.19165839e-01, 1.20158888e-01,\n",
       "       1.20158888e-01, 1.20655412e-01, 1.20655412e-01, 1.21648461e-01,\n",
       "       1.21648461e-01, 1.22144985e-01, 1.22144985e-01, 1.22641509e-01,\n",
       "       1.22641509e-01, 1.23138034e-01, 1.23138034e-01, 1.24131082e-01,\n",
       "       1.24131082e-01, 1.24627607e-01, 1.24627607e-01, 1.25124131e-01,\n",
       "       1.25124131e-01, 1.25620655e-01, 1.25620655e-01, 1.28599801e-01,\n",
       "       1.28599801e-01, 1.29096326e-01, 1.29096326e-01, 1.29592850e-01,\n",
       "       1.29592850e-01, 1.30089374e-01, 1.30089374e-01, 1.31082423e-01,\n",
       "       1.31082423e-01, 1.31578947e-01, 1.31578947e-01, 1.32571996e-01,\n",
       "       1.32571996e-01, 1.34061569e-01, 1.34061569e-01, 1.35551142e-01,\n",
       "       1.35551142e-01, 1.38530288e-01, 1.38530288e-01, 1.40019861e-01,\n",
       "       1.40019861e-01, 1.40516385e-01, 1.40516385e-01, 1.41509434e-01,\n",
       "       1.41509434e-01, 1.42502483e-01, 1.42502483e-01, 1.42999007e-01,\n",
       "       1.42999007e-01, 1.43495531e-01, 1.43495531e-01, 1.44488580e-01,\n",
       "       1.44488580e-01, 1.44985104e-01, 1.44985104e-01, 1.45481629e-01,\n",
       "       1.45481629e-01, 1.45978153e-01, 1.45978153e-01, 1.46474677e-01,\n",
       "       1.46474677e-01, 1.47964250e-01, 1.47964250e-01, 1.48957299e-01,\n",
       "       1.48957299e-01, 1.49950348e-01, 1.49950348e-01, 1.53426018e-01,\n",
       "       1.53426018e-01, 1.53922542e-01, 1.53922542e-01, 1.54915591e-01,\n",
       "       1.54915591e-01, 1.55908640e-01, 1.55908640e-01, 1.56901688e-01,\n",
       "       1.56901688e-01, 1.58887786e-01, 1.58887786e-01, 1.59384310e-01,\n",
       "       1.59384310e-01, 1.60873883e-01, 1.60873883e-01, 1.64846077e-01,\n",
       "       1.64846077e-01, 1.65342602e-01, 1.65342602e-01, 1.65839126e-01,\n",
       "       1.65839126e-01, 1.69314796e-01, 1.69314796e-01, 1.69811321e-01,\n",
       "       1.69811321e-01, 1.70804369e-01, 1.70804369e-01, 1.72790467e-01,\n",
       "       1.72790467e-01, 1.73286991e-01, 1.73286991e-01, 1.74776564e-01,\n",
       "       1.74776564e-01, 1.75769613e-01, 1.75769613e-01, 1.76762661e-01,\n",
       "       1.76762661e-01, 1.78748759e-01, 1.78748759e-01, 1.79741807e-01,\n",
       "       1.79741807e-01, 1.80238332e-01, 1.80238332e-01, 1.81231380e-01,\n",
       "       1.81231380e-01, 1.82224429e-01, 1.82224429e-01, 1.84707051e-01,\n",
       "       1.84707051e-01, 1.85700099e-01, 1.85700099e-01, 1.89672294e-01,\n",
       "       1.89672294e-01, 1.93644489e-01, 1.93644489e-01, 1.96127110e-01,\n",
       "       1.96127110e-01, 1.98609732e-01, 1.98609732e-01, 1.99106256e-01,\n",
       "       1.99106256e-01, 2.00099305e-01, 2.00099305e-01, 2.01588878e-01,\n",
       "       2.01588878e-01, 2.02581927e-01, 2.02581927e-01, 2.05561072e-01,\n",
       "       2.05561072e-01, 2.07050645e-01, 2.07050645e-01, 2.09036743e-01,\n",
       "       2.09036743e-01, 2.09533267e-01, 2.09533267e-01, 2.13505462e-01,\n",
       "       2.13505462e-01, 2.14995035e-01, 2.14995035e-01, 2.15988083e-01,\n",
       "       2.15988083e-01, 2.16484608e-01, 2.16484608e-01, 2.16981132e-01,\n",
       "       2.16981132e-01, 2.17477656e-01, 2.17477656e-01, 2.17974181e-01,\n",
       "       2.17974181e-01, 2.18967229e-01, 2.18967229e-01, 2.19463754e-01,\n",
       "       2.19463754e-01, 2.19960278e-01, 2.19960278e-01, 2.20953327e-01,\n",
       "       2.20953327e-01, 2.23932473e-01, 2.23932473e-01, 2.24428997e-01,\n",
       "       2.24428997e-01, 2.25918570e-01, 2.25918570e-01, 2.26911619e-01,\n",
       "       2.26911619e-01, 2.32373386e-01, 2.32373386e-01, 2.33366435e-01,\n",
       "       2.33366435e-01, 2.35352532e-01, 2.35352532e-01, 2.35849057e-01,\n",
       "       2.35849057e-01, 2.36842105e-01, 2.36842105e-01, 2.37835154e-01,\n",
       "       2.37835154e-01, 2.38828203e-01, 2.38828203e-01, 2.40814300e-01,\n",
       "       2.40814300e-01, 2.45779543e-01, 2.45779543e-01, 2.46276068e-01,\n",
       "       2.46276068e-01, 2.48262165e-01, 2.48262165e-01, 2.48758689e-01,\n",
       "       2.48758689e-01, 2.49751738e-01, 2.49751738e-01, 2.50744786e-01,\n",
       "       2.50744786e-01, 2.51241311e-01, 2.51241311e-01, 2.53227408e-01,\n",
       "       2.53227408e-01, 2.55213505e-01, 2.55213505e-01, 2.57199603e-01,\n",
       "       2.57199603e-01, 2.57696127e-01, 2.57696127e-01, 2.60675273e-01,\n",
       "       2.60675273e-01, 2.61668322e-01, 2.61668322e-01, 2.64647468e-01,\n",
       "       2.64647468e-01, 2.68123138e-01, 2.68123138e-01, 2.69612711e-01,\n",
       "       2.69612711e-01, 2.70109235e-01, 2.70109235e-01, 2.72095333e-01,\n",
       "       2.72095333e-01, 2.75074479e-01, 2.75074479e-01, 2.75571003e-01,\n",
       "       2.75571003e-01, 2.76067527e-01, 2.76067527e-01, 2.77557100e-01,\n",
       "       2.77557100e-01, 2.80536246e-01, 2.80536246e-01, 2.83018868e-01,\n",
       "       2.83018868e-01, 2.85501490e-01, 2.85501490e-01, 2.85998014e-01,\n",
       "       2.85998014e-01, 2.86494538e-01, 2.86494538e-01, 2.87487587e-01,\n",
       "       2.87487587e-01, 2.92949355e-01, 2.92949355e-01, 2.95431976e-01,\n",
       "       2.95431976e-01, 2.96425025e-01, 2.96425025e-01, 2.97914598e-01,\n",
       "       2.97914598e-01, 2.98411122e-01, 2.98411122e-01, 2.99900695e-01,\n",
       "       2.99900695e-01, 3.04369414e-01, 3.04369414e-01, 3.05362463e-01,\n",
       "       3.05362463e-01, 3.06852036e-01, 3.06852036e-01, 3.07348560e-01,\n",
       "       3.07348560e-01, 3.08341609e-01, 3.08341609e-01, 3.09334657e-01,\n",
       "       3.09334657e-01, 3.09831182e-01, 3.09831182e-01, 3.11320755e-01,\n",
       "       3.11320755e-01, 3.12313803e-01, 3.12313803e-01, 3.12810328e-01,\n",
       "       3.12810328e-01, 3.13803376e-01, 3.13803376e-01, 3.16285998e-01,\n",
       "       3.16285998e-01, 3.17775571e-01, 3.17775571e-01, 3.24230387e-01,\n",
       "       3.24230387e-01, 3.24726912e-01, 3.24726912e-01, 3.29692155e-01,\n",
       "       3.29692155e-01, 3.31181728e-01, 3.31181728e-01, 3.33167825e-01,\n",
       "       3.33167825e-01, 3.34160874e-01, 3.34160874e-01, 3.38133069e-01,\n",
       "       3.38133069e-01, 3.41112214e-01, 3.41112214e-01, 3.41608739e-01,\n",
       "       3.41608739e-01, 3.42601787e-01, 3.42601787e-01, 3.46077458e-01,\n",
       "       3.46077458e-01, 3.54021847e-01, 3.54021847e-01, 3.56007944e-01,\n",
       "       3.56007944e-01, 3.57497517e-01, 3.57497517e-01, 3.60476663e-01,\n",
       "       3.60476663e-01, 3.61469712e-01, 3.61469712e-01, 3.73386296e-01,\n",
       "       3.73386296e-01, 3.73882820e-01, 3.73882820e-01, 3.75372393e-01,\n",
       "       3.75372393e-01, 3.76861966e-01, 3.76861966e-01, 3.79841112e-01,\n",
       "       3.79841112e-01, 3.80337637e-01, 3.80337637e-01, 3.80834161e-01,\n",
       "       3.80834161e-01, 3.83316783e-01, 3.83316783e-01, 3.84309831e-01,\n",
       "       3.84309831e-01, 3.87785501e-01, 3.87785501e-01, 3.89771599e-01,\n",
       "       3.89771599e-01, 3.92254220e-01, 3.92254220e-01, 3.92750745e-01,\n",
       "       3.92750745e-01, 3.93743793e-01, 3.93743793e-01, 3.94736842e-01,\n",
       "       3.94736842e-01, 3.96722939e-01, 3.96722939e-01, 3.99205561e-01,\n",
       "       3.99205561e-01, 4.00198610e-01, 4.00198610e-01, 4.04170804e-01,\n",
       "       4.04170804e-01, 4.09136048e-01, 4.09136048e-01, 4.13604767e-01,\n",
       "       4.13604767e-01, 4.15590864e-01, 4.15590864e-01, 4.17080437e-01,\n",
       "       4.17080437e-01, 4.24031778e-01, 4.24031778e-01, 4.26514399e-01,\n",
       "       4.26514399e-01, 4.27507448e-01, 4.27507448e-01, 4.29493545e-01,\n",
       "       4.29493545e-01, 4.31976167e-01, 4.31976167e-01, 4.32472691e-01,\n",
       "       4.32472691e-01, 4.33465740e-01, 4.33465740e-01, 4.34955313e-01,\n",
       "       4.34955313e-01, 4.38927507e-01, 4.38927507e-01, 4.45382324e-01,\n",
       "       4.45382324e-01, 4.46375372e-01, 4.46375372e-01, 4.48361470e-01,\n",
       "       4.48361470e-01, 4.52830189e-01, 4.52830189e-01, 4.56802383e-01,\n",
       "       4.56802383e-01, 4.57298908e-01, 4.57298908e-01, 4.58788481e-01,\n",
       "       4.58788481e-01, 4.59285005e-01, 4.59285005e-01, 4.62760675e-01,\n",
       "       4.62760675e-01, 4.67229394e-01, 4.67229394e-01, 4.69215492e-01,\n",
       "       4.69215492e-01, 4.71698113e-01, 4.71698113e-01, 4.76166832e-01,\n",
       "       4.76166832e-01, 4.79145978e-01, 4.79145978e-01, 4.87586892e-01,\n",
       "       4.87586892e-01, 4.89076465e-01, 4.89076465e-01, 4.91559086e-01,\n",
       "       4.91559086e-01, 4.94041708e-01, 4.94041708e-01, 4.94538232e-01,\n",
       "       4.94538232e-01, 4.95034757e-01, 4.95034757e-01, 4.97020854e-01,\n",
       "       4.97020854e-01, 5.05958292e-01, 5.05958292e-01, 5.09433962e-01,\n",
       "       5.09433962e-01, 5.09930487e-01, 5.09930487e-01, 5.22343595e-01,\n",
       "       5.22343595e-01, 5.43694141e-01, 5.43694141e-01, 5.46176763e-01,\n",
       "       5.46176763e-01, 5.46673287e-01, 5.46673287e-01, 5.51638530e-01,\n",
       "       5.51638530e-01, 5.66534260e-01, 5.66534260e-01, 5.73485601e-01,\n",
       "       5.73485601e-01, 5.77954320e-01, 5.77954320e-01, 5.78947368e-01,\n",
       "       5.78947368e-01, 5.79443893e-01, 5.79443893e-01, 5.82423039e-01,\n",
       "       5.82423039e-01, 5.91360477e-01, 5.91360477e-01, 5.91857001e-01,\n",
       "       5.91857001e-01, 5.92850050e-01, 5.92850050e-01, 6.02284012e-01,\n",
       "       6.02284012e-01, 6.07745780e-01, 6.07745780e-01, 6.15193644e-01,\n",
       "       6.15193644e-01, 6.15690169e-01, 6.15690169e-01, 6.22641509e-01,\n",
       "       6.22641509e-01, 6.36047666e-01, 6.36047666e-01, 6.45481629e-01,\n",
       "       6.45481629e-01, 6.47964250e-01, 6.47964250e-01, 6.49950348e-01,\n",
       "       6.49950348e-01, 6.51439921e-01, 6.51439921e-01, 6.56901688e-01,\n",
       "       6.56901688e-01, 6.66335650e-01, 6.66335650e-01, 6.73783515e-01,\n",
       "       6.73783515e-01, 6.74776564e-01, 6.74776564e-01, 6.91658391e-01,\n",
       "       6.91658391e-01, 6.94141013e-01, 6.94141013e-01, 7.09036743e-01,\n",
       "       7.09036743e-01, 7.14498510e-01, 7.14498510e-01, 7.23932473e-01,\n",
       "       7.23932473e-01, 7.30883813e-01, 7.30883813e-01, 7.32373386e-01,\n",
       "       7.32373386e-01, 7.38331678e-01, 7.38331678e-01, 7.55710030e-01,\n",
       "       7.55710030e-01, 7.64647468e-01, 7.64647468e-01, 7.72095333e-01,\n",
       "       7.72095333e-01, 7.93445879e-01, 7.93445879e-01, 8.31678252e-01,\n",
       "       8.31678252e-01, 8.39622642e-01, 8.39622642e-01, 8.40615690e-01,\n",
       "       8.40615690e-01, 8.69910626e-01, 8.69910626e-01, 9.32472691e-01,\n",
       "       9.32472691e-01, 1.00000000e+00])"
      ]
     },
     "execution_count": 46,
     "metadata": {},
     "output_type": "execute_result"
    }
   ],
   "source": [
    "fpr"
   ]
  },
  {
   "cell_type": "code",
   "execution_count": 47,
   "id": "d21fc89a",
   "metadata": {},
   "outputs": [
    {
     "data": {
      "text/plain": [
       "array([0.        , 0.0010142 , 0.00912779, 0.00912779, 0.01217039,\n",
       "       0.01217039, 0.02332657, 0.02332657, 0.03144016, 0.03144016,\n",
       "       0.04158215, 0.04158215, 0.05679513, 0.05679513, 0.05780933,\n",
       "       0.05780933, 0.09634888, 0.09634888, 0.10243408, 0.10243408,\n",
       "       0.10750507, 0.10750507, 0.11054767, 0.11054767, 0.11663286,\n",
       "       0.11663286, 0.12170385, 0.12170385, 0.12981744, 0.12981744,\n",
       "       0.13793103, 0.13793103, 0.13894523, 0.13894523, 0.13995943,\n",
       "       0.13995943, 0.14198783, 0.14198783, 0.14705882, 0.14705882,\n",
       "       0.15720081, 0.15720081, 0.15821501, 0.15821501, 0.16227181,\n",
       "       0.16227181, 0.1663286 , 0.1663286 , 0.17951318, 0.17951318,\n",
       "       0.18458418, 0.18458418, 0.19066937, 0.19066937, 0.19574037,\n",
       "       0.19574037, 0.19979716, 0.19979716, 0.20385396, 0.20385396,\n",
       "       0.22819473, 0.22819473, 0.23732252, 0.23732252, 0.24036511,\n",
       "       0.24036511, 0.24137931, 0.24137931, 0.24340771, 0.24340771,\n",
       "       0.25659229, 0.25659229, 0.25760649, 0.25760649, 0.25963489,\n",
       "       0.25963489, 0.26267748, 0.26267748, 0.27383367, 0.27383367,\n",
       "       0.27789047, 0.27789047, 0.28194726, 0.28194726, 0.28296146,\n",
       "       0.28296146, 0.28397566, 0.28397566, 0.28803245, 0.28803245,\n",
       "       0.28904665, 0.28904665, 0.29107505, 0.29107505, 0.29716024,\n",
       "       0.29716024, 0.30324544, 0.30324544, 0.30628803, 0.30628803,\n",
       "       0.30933063, 0.30933063, 0.31440162, 0.31440162, 0.32048682,\n",
       "       0.32048682, 0.32555781, 0.32555781, 0.3296146 , 0.3296146 ,\n",
       "       0.3336714 , 0.3336714 , 0.336714  , 0.336714  , 0.34279919,\n",
       "       0.34279919, 0.34584178, 0.34584178, 0.35294118, 0.35294118,\n",
       "       0.35395538, 0.35395538, 0.35699797, 0.35699797, 0.36206897,\n",
       "       0.36206897, 0.37221095, 0.37221095, 0.37423935, 0.37423935,\n",
       "       0.38235294, 0.38235294, 0.38336714, 0.38336714, 0.38843813,\n",
       "       0.38843813, 0.38945233, 0.38945233, 0.39350913, 0.39350913,\n",
       "       0.39452333, 0.39452333, 0.40872211, 0.40872211, 0.41075051,\n",
       "       0.41075051, 0.41176471, 0.41176471, 0.4127789 , 0.4127789 ,\n",
       "       0.4148073 , 0.4148073 , 0.4168357 , 0.4168357 , 0.4178499 ,\n",
       "       0.4178499 , 0.4188641 , 0.4188641 , 0.42494929, 0.42494929,\n",
       "       0.42900609, 0.42900609, 0.43002028, 0.43002028, 0.43103448,\n",
       "       0.43103448, 0.43306288, 0.43306288, 0.44219067, 0.44219067,\n",
       "       0.44523327, 0.44523327, 0.44624746, 0.44624746, 0.44726166,\n",
       "       0.44726166, 0.44929006, 0.44929006, 0.45030426, 0.45030426,\n",
       "       0.45131846, 0.45131846, 0.45436105, 0.45436105, 0.45537525,\n",
       "       0.45537525, 0.46146045, 0.46146045, 0.46247465, 0.46247465,\n",
       "       0.46348884, 0.46348884, 0.46754564, 0.46754564, 0.47160243,\n",
       "       0.47160243, 0.47464503, 0.47464503, 0.47971602, 0.47971602,\n",
       "       0.48275862, 0.48275862, 0.48681542, 0.48681542, 0.49087221,\n",
       "       0.49087221, 0.49188641, 0.49188641, 0.4959432 , 0.4959432 ,\n",
       "       0.4979716 , 0.4979716 , 0.4989858 , 0.4989858 , 0.5010142 ,\n",
       "       0.5010142 , 0.5040568 , 0.5040568 , 0.50608519, 0.50608519,\n",
       "       0.51115619, 0.51115619, 0.51318458, 0.51318458, 0.52028398,\n",
       "       0.52028398, 0.52332657, 0.52332657, 0.52636917, 0.52636917,\n",
       "       0.52738337, 0.52738337, 0.52839757, 0.52839757, 0.53144016,\n",
       "       0.53144016, 0.53245436, 0.53245436, 0.53346856, 0.53346856,\n",
       "       0.53448276, 0.53448276, 0.53955375, 0.53955375, 0.54361055,\n",
       "       0.54361055, 0.54462475, 0.54462475, 0.54563895, 0.54563895,\n",
       "       0.54766734, 0.54766734, 0.54868154, 0.54868154, 0.55070994,\n",
       "       0.55070994, 0.55172414, 0.55172414, 0.55476673, 0.55476673,\n",
       "       0.55679513, 0.55679513, 0.55780933, 0.55780933, 0.56186613,\n",
       "       0.56186613, 0.56288032, 0.56288032, 0.56592292, 0.56592292,\n",
       "       0.56693712, 0.56693712, 0.56795132, 0.56795132, 0.57200811,\n",
       "       0.57200811, 0.57302231, 0.57302231, 0.57505071, 0.57505071,\n",
       "       0.57707911, 0.57707911, 0.5811359 , 0.5811359 , 0.5831643 ,\n",
       "       0.5831643 , 0.5872211 , 0.5872211 , 0.58823529, 0.58823529,\n",
       "       0.59026369, 0.59026369, 0.59127789, 0.59127789, 0.59330629,\n",
       "       0.59330629, 0.59634888, 0.59634888, 0.59837728, 0.59837728,\n",
       "       0.59939148, 0.59939148, 0.60243408, 0.60243408, 0.60344828,\n",
       "       0.60344828, 0.60446247, 0.60446247, 0.60851927, 0.60851927,\n",
       "       0.60953347, 0.60953347, 0.61156187, 0.61156187, 0.61257606,\n",
       "       0.61257606, 0.61359026, 0.61359026, 0.61460446, 0.61460446,\n",
       "       0.61663286, 0.61663286, 0.61967546, 0.61967546, 0.62068966,\n",
       "       0.62068966, 0.62170385, 0.62170385, 0.63184584, 0.63184584,\n",
       "       0.63387424, 0.63387424, 0.63590264, 0.63590264, 0.64401623,\n",
       "       0.64401623, 0.64503043, 0.64503043, 0.64705882, 0.64705882,\n",
       "       0.64908722, 0.64908722, 0.65010142, 0.65010142, 0.65415822,\n",
       "       0.65415822, 0.65720081, 0.65720081, 0.65821501, 0.65821501,\n",
       "       0.65922921, 0.65922921, 0.663286  , 0.663286  , 0.6643002 ,\n",
       "       0.6643002 , 0.6663286 , 0.6663286 , 0.6673428 , 0.6673428 ,\n",
       "       0.6693712 , 0.6693712 , 0.6703854 , 0.6703854 , 0.67139959,\n",
       "       0.67139959, 0.67241379, 0.67241379, 0.67545639, 0.67545639,\n",
       "       0.67647059, 0.67647059, 0.67849899, 0.67849899, 0.68052738,\n",
       "       0.68052738, 0.68356998, 0.68356998, 0.68458418, 0.68458418,\n",
       "       0.68559838, 0.68559838, 0.68661258, 0.68661258, 0.68965517,\n",
       "       0.68965517, 0.69269777, 0.69269777, 0.69371197, 0.69371197,\n",
       "       0.69472617, 0.69472617, 0.69675456, 0.69675456, 0.69878296,\n",
       "       0.69878296, 0.69979716, 0.69979716, 0.70081136, 0.70081136,\n",
       "       0.70182556, 0.70182556, 0.70385396, 0.70385396, 0.70486815,\n",
       "       0.70486815, 0.70588235, 0.70588235, 0.70689655, 0.70689655,\n",
       "       0.70791075, 0.70791075, 0.70892495, 0.70892495, 0.70993915,\n",
       "       0.70993915, 0.71196755, 0.71196755, 0.71399594, 0.71399594,\n",
       "       0.71501014, 0.71501014, 0.71602434, 0.71602434, 0.71906694,\n",
       "       0.71906694, 0.72109533, 0.72109533, 0.72312373, 0.72312373,\n",
       "       0.72616633, 0.72616633, 0.72920892, 0.72920892, 0.73022312,\n",
       "       0.73022312, 0.73225152, 0.73225152, 0.73326572, 0.73326572,\n",
       "       0.73427992, 0.73427992, 0.73630832, 0.73630832, 0.73732252,\n",
       "       0.73732252, 0.73833671, 0.73833671, 0.73935091, 0.73935091,\n",
       "       0.74137931, 0.74137931, 0.74543611, 0.74543611, 0.7474645 ,\n",
       "       0.7474645 , 0.7515213 , 0.7515213 , 0.7525355 , 0.7525355 ,\n",
       "       0.75557809, 0.75557809, 0.75659229, 0.75659229, 0.75760649,\n",
       "       0.75760649, 0.75862069, 0.75862069, 0.75963489, 0.75963489,\n",
       "       0.76166329, 0.76166329, 0.76470588, 0.76470588, 0.76572008,\n",
       "       0.76572008, 0.76673428, 0.76673428, 0.76774848, 0.76774848,\n",
       "       0.76876268, 0.76876268, 0.77079108, 0.77079108, 0.77180527,\n",
       "       0.77180527, 0.77281947, 0.77281947, 0.77383367, 0.77383367,\n",
       "       0.77687627, 0.77687627, 0.77991886, 0.77991886, 0.78194726,\n",
       "       0.78194726, 0.78296146, 0.78296146, 0.78397566, 0.78397566,\n",
       "       0.78498986, 0.78498986, 0.78701826, 0.78701826, 0.79208925,\n",
       "       0.79208925, 0.79310345, 0.79310345, 0.79513185, 0.79513185,\n",
       "       0.79614604, 0.79614604, 0.79716024, 0.79716024, 0.79918864,\n",
       "       0.79918864, 0.80223124, 0.80223124, 0.80324544, 0.80324544,\n",
       "       0.80425963, 0.80425963, 0.80527383, 0.80527383, 0.80628803,\n",
       "       0.80628803, 0.80730223, 0.80730223, 0.80831643, 0.80831643,\n",
       "       0.80933063, 0.80933063, 0.81034483, 0.81034483, 0.81135903,\n",
       "       0.81135903, 0.81237323, 0.81237323, 0.81338742, 0.81338742,\n",
       "       0.81440162, 0.81440162, 0.81744422, 0.81744422, 0.81845842,\n",
       "       0.81845842, 0.81947262, 0.81947262, 0.82048682, 0.82048682,\n",
       "       0.82150101, 0.82150101, 0.82454361, 0.82454361, 0.82555781,\n",
       "       0.82555781, 0.82657201, 0.82657201, 0.82758621, 0.82758621,\n",
       "       0.82860041, 0.82860041, 0.8296146 , 0.8296146 , 0.831643  ,\n",
       "       0.831643  , 0.8326572 , 0.8326572 , 0.8346856 , 0.8346856 ,\n",
       "       0.836714  , 0.836714  , 0.83772819, 0.83772819, 0.83874239,\n",
       "       0.83874239, 0.84077079, 0.84077079, 0.84482759, 0.84482759,\n",
       "       0.84584178, 0.84584178, 0.84685598, 0.84685598, 0.84787018,\n",
       "       0.84787018, 0.84888438, 0.84888438, 0.84989858, 0.84989858,\n",
       "       0.85192698, 0.85192698, 0.85294118, 0.85294118, 0.85395538,\n",
       "       0.85395538, 0.85496957, 0.85496957, 0.85598377, 0.85598377,\n",
       "       0.85801217, 0.85801217, 0.86004057, 0.86004057, 0.86409736,\n",
       "       0.86409736, 0.86511156, 0.86511156, 0.86713996, 0.86713996,\n",
       "       0.86815416, 0.86815416, 0.86916836, 0.86916836, 0.87018256,\n",
       "       0.87018256, 0.87119675, 0.87119675, 0.87221095, 0.87221095,\n",
       "       0.87322515, 0.87322515, 0.87525355, 0.87525355, 0.87626775,\n",
       "       0.87626775, 0.87728195, 0.87728195, 0.87829615, 0.87829615,\n",
       "       0.87931034, 0.87931034, 0.88133874, 0.88133874, 0.88235294,\n",
       "       0.88235294, 0.88336714, 0.88336714, 0.88438134, 0.88438134,\n",
       "       0.88539554, 0.88539554, 0.88640974, 0.88640974, 0.88742394,\n",
       "       0.88742394, 0.88843813, 0.88843813, 0.88945233, 0.88945233,\n",
       "       0.89046653, 0.89046653, 0.89148073, 0.89148073, 0.89249493,\n",
       "       0.89249493, 0.89452333, 0.89452333, 0.89553753, 0.89553753,\n",
       "       0.89655172, 0.89655172, 0.89756592, 0.89756592, 0.90060852,\n",
       "       0.90060852, 0.90263692, 0.90263692, 0.90567951, 0.90567951,\n",
       "       0.90669371, 0.90669371, 0.90872211, 0.90872211, 0.90973631,\n",
       "       0.90973631, 0.91075051, 0.91075051, 0.91176471, 0.91176471,\n",
       "       0.9127789 , 0.9127789 , 0.9137931 , 0.9137931 , 0.9148073 ,\n",
       "       0.9148073 , 0.9168357 , 0.9168357 , 0.9178499 , 0.9178499 ,\n",
       "       0.9188641 , 0.9188641 , 0.9198783 , 0.9198783 , 0.92089249,\n",
       "       0.92089249, 0.92190669, 0.92190669, 0.92292089, 0.92292089,\n",
       "       0.92393509, 0.92393509, 0.92494929, 0.92494929, 0.92596349,\n",
       "       0.92596349, 0.92799189, 0.92799189, 0.92900609, 0.92900609,\n",
       "       0.93002028, 0.93002028, 0.93204868, 0.93204868, 0.93306288,\n",
       "       0.93306288, 0.93407708, 0.93407708, 0.93509128, 0.93509128,\n",
       "       0.93610548, 0.93610548, 0.93813387, 0.93813387, 0.93914807,\n",
       "       0.93914807, 0.94117647, 0.94117647, 0.94219067, 0.94219067,\n",
       "       0.94320487, 0.94320487, 0.94421907, 0.94421907, 0.94523327,\n",
       "       0.94523327, 0.94624746, 0.94624746, 0.94726166, 0.94726166,\n",
       "       0.94827586, 0.94827586, 0.94929006, 0.94929006, 0.95030426,\n",
       "       0.95030426, 0.95131846, 0.95131846, 0.95233266, 0.95233266,\n",
       "       0.95334686, 0.95334686, 0.95436105, 0.95436105, 0.95537525,\n",
       "       0.95537525, 0.95638945, 0.95638945, 0.95740365, 0.95740365,\n",
       "       0.95841785, 0.95841785, 0.95943205, 0.95943205, 0.96146045,\n",
       "       0.96146045, 0.96247465, 0.96247465, 0.96450304, 0.96450304,\n",
       "       0.96551724, 0.96551724, 0.96653144, 0.96653144, 0.96754564,\n",
       "       0.96754564, 0.96855984, 0.96855984, 0.96957404, 0.96957404,\n",
       "       0.97058824, 0.97058824, 0.97160243, 0.97160243, 0.97261663,\n",
       "       0.97261663, 0.97363083, 0.97363083, 0.97464503, 0.97464503,\n",
       "       0.97565923, 0.97565923, 0.97667343, 0.97667343, 0.97768763,\n",
       "       0.97768763, 0.97870183, 0.97870183, 0.98073022, 0.98073022,\n",
       "       0.98174442, 0.98174442, 0.98275862, 0.98275862, 0.98377282,\n",
       "       0.98377282, 0.98478702, 0.98478702, 0.98580122, 0.98580122,\n",
       "       0.98681542, 0.98681542, 0.98782961, 0.98782961, 0.98884381,\n",
       "       0.98884381, 0.98985801, 0.98985801, 0.99087221, 0.99087221,\n",
       "       0.99188641, 0.99188641, 0.99290061, 0.99290061, 0.99391481,\n",
       "       0.99391481, 0.99492901, 0.99492901, 0.9959432 , 0.9959432 ,\n",
       "       0.9969574 , 0.9969574 , 0.9979716 , 0.9979716 , 0.9989858 ,\n",
       "       0.9989858 , 1.        , 1.        ])"
      ]
     },
     "execution_count": 47,
     "metadata": {},
     "output_type": "execute_result"
    }
   ],
   "source": [
    "tpr"
   ]
  },
  {
   "cell_type": "code",
   "execution_count": 48,
   "id": "c481893e",
   "metadata": {},
   "outputs": [
    {
     "data": {
      "text/plain": [
       "array([1.99804986, 0.99804986, 0.98406917, 0.98278866, 0.98130441,\n",
       "       0.98053913, 0.96904546, 0.96898712, 0.95939917, 0.95835252,\n",
       "       0.95056577, 0.95046621, 0.93892003, 0.93613539, 0.93541578,\n",
       "       0.93458599, 0.91207176, 0.9116289 , 0.90788272, 0.90607612,\n",
       "       0.90138188, 0.90051357, 0.89883703, 0.89789847, 0.89339613,\n",
       "       0.89337117, 0.89034354, 0.88891909, 0.88151915, 0.87884824,\n",
       "       0.87431358, 0.87214498, 0.87192013, 0.87189842, 0.87131424,\n",
       "       0.87004938, 0.86858977, 0.8685482 , 0.86710909, 0.86665558,\n",
       "       0.86005209, 0.85910967, 0.85644992, 0.85463871, 0.85224266,\n",
       "       0.85118279, 0.84874734, 0.84853766, 0.83825212, 0.83706905,\n",
       "       0.83325604, 0.8331141 , 0.83004651, 0.8285088 , 0.82638379,\n",
       "       0.8258423 , 0.82195435, 0.82083103, 0.81795941, 0.81711197,\n",
       "       0.79675852, 0.79668313, 0.7910414 , 0.79093165, 0.78876778,\n",
       "       0.78876766, 0.78876509, 0.78861503, 0.78698105, 0.78491974,\n",
       "       0.77506253, 0.77502085, 0.77461879, 0.7724142 , 0.77211018,\n",
       "       0.7718824 , 0.77107661, 0.77078188, 0.76333666, 0.76256314,\n",
       "       0.75941071, 0.75846518, 0.75684541, 0.75673787, 0.7556952 ,\n",
       "       0.75353371, 0.75339217, 0.75294118, 0.75132362, 0.75107699,\n",
       "       0.7495371 , 0.74882732, 0.7468973 , 0.74661579, 0.74236088,\n",
       "       0.74179186, 0.74027955, 0.73993318, 0.73792868, 0.73362638,\n",
       "       0.73203376, 0.7310649 , 0.72826528, 0.72699712, 0.72370863,\n",
       "       0.72353887, 0.71958523, 0.71935445, 0.71641142, 0.71603522,\n",
       "       0.71301305, 0.71257561, 0.7112479 , 0.7112473 , 0.70796601,\n",
       "       0.7072567 , 0.70544648, 0.70348196, 0.6983555 , 0.69766737,\n",
       "       0.69766029, 0.69754553, 0.69498892, 0.69497027, 0.6888531 ,\n",
       "       0.68862117, 0.68503315, 0.68495415, 0.68264979, 0.68234398,\n",
       "       0.68016224, 0.67954165, 0.67888073, 0.67548089, 0.67347581,\n",
       "       0.67302949, 0.6728883 , 0.67285408, 0.6698306 , 0.66898583,\n",
       "       0.66894435, 0.66567504, 0.65356521, 0.65308813, 0.65049326,\n",
       "       0.64954782, 0.64751219, 0.64506646, 0.64502319, 0.64384188,\n",
       "       0.64227787, 0.64199017, 0.64169961, 0.6412729 , 0.64018904,\n",
       "       0.63935189, 0.63840607, 0.63837364, 0.63402152, 0.63339965,\n",
       "       0.63209048, 0.63196586, 0.63193541, 0.63017272, 0.62971513,\n",
       "       0.62886616, 0.62865655, 0.62685959, 0.62137812, 0.62092638,\n",
       "       0.61889789, 0.61623116, 0.61540955, 0.61280673, 0.61225998,\n",
       "       0.61062553, 0.60988323, 0.60842329, 0.60839275, 0.60797245,\n",
       "       0.60654813, 0.60650961, 0.60540812, 0.60383505, 0.60370981,\n",
       "       0.60251704, 0.60153867, 0.5996718 , 0.59839763, 0.59802738,\n",
       "       0.59766954, 0.59615624, 0.59452577, 0.59358425, 0.59267255,\n",
       "       0.59147437, 0.59022204, 0.5890909 , 0.58318693, 0.58284433,\n",
       "       0.57992202, 0.57964339, 0.57630571, 0.57438468, 0.57244703,\n",
       "       0.56841577, 0.56822422, 0.56790344, 0.56691093, 0.56574515,\n",
       "       0.56400386, 0.56388503, 0.56258357, 0.56227755, 0.56129098,\n",
       "       0.56109839, 0.55826504, 0.55687835, 0.55682649, 0.55548608,\n",
       "       0.55387871, 0.55062902, 0.54995802, 0.54965162, 0.54401996,\n",
       "       0.54175823, 0.54138308, 0.54068297, 0.53956665, 0.53925343,\n",
       "       0.53865514, 0.5383579 , 0.5375236 , 0.53692754, 0.53589994,\n",
       "       0.53492565, 0.53486716, 0.53455428, 0.53423825, 0.53264226,\n",
       "       0.53219416, 0.53205721, 0.52936452, 0.5289849 , 0.52746431,\n",
       "       0.52743448, 0.52635652, 0.52481348, 0.52374781, 0.52213381,\n",
       "       0.51995825, 0.51951287, 0.51940489, 0.5155694 , 0.51506061,\n",
       "       0.51474225, 0.51338264, 0.51151632, 0.50961829, 0.5077804 ,\n",
       "       0.50717004, 0.50677899, 0.50659569, 0.50584983, 0.5036372 ,\n",
       "       0.50351764, 0.50327388, 0.50320869, 0.50117774, 0.50108205,\n",
       "       0.50107486, 0.49773977, 0.49701313, 0.49611598, 0.49499193,\n",
       "       0.49431618, 0.49391051, 0.49323702, 0.4906509 , 0.49060853,\n",
       "       0.48915509, 0.48821315, 0.48691285, 0.48658395, 0.48612017,\n",
       "       0.48553299, 0.48368572, 0.48360058, 0.48333252, 0.48317037,\n",
       "       0.48221656, 0.48207678, 0.48137491, 0.48071626, 0.47881249,\n",
       "       0.47865943, 0.47684323, 0.47594367, 0.47484842, 0.47433258,\n",
       "       0.47345676, 0.4731836 , 0.47236939, 0.47057767, 0.46980799,\n",
       "       0.4695887 , 0.46944328, 0.46925835, 0.46805127, 0.46687022,\n",
       "       0.46682338, 0.4663716 , 0.46594328, 0.46582395, 0.46533012,\n",
       "       0.46401877, 0.46374567, 0.46352913, 0.46342827, 0.46165382,\n",
       "       0.46156768, 0.46150944, 0.45962398, 0.45915286, 0.4588972 ,\n",
       "       0.45887278, 0.45886507, 0.45872913, 0.45441831, 0.45340912,\n",
       "       0.45291951, 0.45284747, 0.45094166, 0.45074606, 0.44783739,\n",
       "       0.44782107, 0.44721474, 0.44715858, 0.44576125, 0.44126558,\n",
       "       0.44042292, 0.43958985, 0.43941629, 0.43885567, 0.43739082,\n",
       "       0.43727726, 0.43505182, 0.43483341, 0.43428688, 0.43335146,\n",
       "       0.43315779, 0.43192456, 0.43112902, 0.4303799 , 0.42962689,\n",
       "       0.42920705, 0.42844168, 0.42542311, 0.42456599, 0.42372904,\n",
       "       0.42324358, 0.42233466, 0.42231521, 0.42128614, 0.42084928,\n",
       "       0.41951222, 0.41917659, 0.41835441, 0.41747987, 0.41698312,\n",
       "       0.4168868 , 0.41578928, 0.41520031, 0.41499834, 0.41479874,\n",
       "       0.4142834 , 0.41096574, 0.41013048, 0.4101272 , 0.40991015,\n",
       "       0.40971252, 0.40838336, 0.4083702 , 0.40715067, 0.40490366,\n",
       "       0.40456794, 0.40327987, 0.40047826, 0.40029288, 0.39910174,\n",
       "       0.39888836, 0.3982623 , 0.39784407, 0.39718873, 0.39691644,\n",
       "       0.39663112, 0.39636595, 0.39451681, 0.39410537, 0.39214398,\n",
       "       0.39182291, 0.39076626, 0.39017398, 0.38713834, 0.38626519,\n",
       "       0.38604837, 0.3858856 , 0.38573957, 0.38461708, 0.38205625,\n",
       "       0.38117297, 0.38074859, 0.38060586, 0.37951022, 0.37895656,\n",
       "       0.37704818, 0.37616348, 0.37521423, 0.37500481, 0.37310453,\n",
       "       0.37225375, 0.37175152, 0.37136658, 0.36955909, 0.3682235 ,\n",
       "       0.36484615, 0.36404243, 0.36381812, 0.36299626, 0.36264122,\n",
       "       0.36192928, 0.36157798, 0.36063659, 0.35942229, 0.35938032,\n",
       "       0.35843656, 0.35754473, 0.3567886 , 0.35555818, 0.3530966 ,\n",
       "       0.35307117, 0.34899205, 0.34818927, 0.34662513, 0.34645227,\n",
       "       0.34371808, 0.34351051, 0.34310398, 0.34210473, 0.34164937,\n",
       "       0.34064019, 0.33977949, 0.33934574, 0.33897812, 0.33854098,\n",
       "       0.3344995 , 0.33344393, 0.33235906, 0.33230768, 0.32982771,\n",
       "       0.32874832, 0.32818187, 0.32780938, 0.32312531, 0.32101282,\n",
       "       0.31840717, 0.31837003, 0.31788143, 0.31773783, 0.31698306,\n",
       "       0.31659874, 0.31645481, 0.31421024, 0.31410683, 0.31402197,\n",
       "       0.31387111, 0.31369684, 0.31337373, 0.3125737 , 0.31242135,\n",
       "       0.31232776, 0.31226936, 0.31189037, 0.31064557, 0.31055736,\n",
       "       0.3069959 , 0.30641864, 0.30553092, 0.30512544, 0.30424488,\n",
       "       0.3030096 , 0.30222116, 0.30161788, 0.29819502, 0.29805538,\n",
       "       0.29654835, 0.29650944, 0.29285062, 0.29275275, 0.29263908,\n",
       "       0.29224607, 0.29146449, 0.29123645, 0.29108311, 0.28977182,\n",
       "       0.28899964, 0.28840078, 0.2871166 , 0.28680542, 0.28423626,\n",
       "       0.28403296, 0.28382578, 0.28326922, 0.28222917, 0.28149473,\n",
       "       0.28082105, 0.28006633, 0.27988054, 0.2797336 , 0.27818161,\n",
       "       0.27813119, 0.27778764, 0.27707899, 0.27639314, 0.27629862,\n",
       "       0.2741636 , 0.27373283, 0.27178918, 0.27164905, 0.27133651,\n",
       "       0.26964264, 0.26669461, 0.26642278, 0.26619317, 0.26615879,\n",
       "       0.26368815, 0.26325777, 0.26078179, 0.26040637, 0.25983192,\n",
       "       0.25938152, 0.25912938, 0.25855473, 0.25763349, 0.25753607,\n",
       "       0.25668505, 0.25659793, 0.25642713, 0.25642499, 0.25606868,\n",
       "       0.25552737, 0.25376854, 0.2531964 , 0.25104288, 0.25092401,\n",
       "       0.25019486, 0.25006525, 0.24838422, 0.24823177, 0.24822431,\n",
       "       0.24777988, 0.24776992, 0.24771293, 0.24742796, 0.2465919 ,\n",
       "       0.24365678, 0.24362014, 0.2407528 , 0.24050201, 0.24042998,\n",
       "       0.24017531, 0.23936232, 0.23899926, 0.23899518, 0.23791819,\n",
       "       0.23704961, 0.23559189, 0.2340092 , 0.23240258, 0.23233432,\n",
       "       0.23233208, 0.23174891, 0.23172888, 0.23113696, 0.23060974,\n",
       "       0.23046925, 0.23039385, 0.2297093 , 0.22969161, 0.22968177,\n",
       "       0.22922739, 0.22873681, 0.22858581, 0.22757812, 0.22689929,\n",
       "       0.22680036, 0.22670706, 0.22493499, 0.22454013, 0.22284287,\n",
       "       0.22216995, 0.22175776, 0.2214151 , 0.2183304 , 0.21789256,\n",
       "       0.21774139, 0.21773982, 0.2163912 , 0.21548545, 0.21521471,\n",
       "       0.21505887, 0.21434817, 0.21406891, 0.21358406, 0.21356218,\n",
       "       0.21010378, 0.20978038, 0.2073989 , 0.20710028, 0.20703325,\n",
       "       0.20702384, 0.20572303, 0.2055886 , 0.20418933, 0.20388204,\n",
       "       0.20043247, 0.20007415, 0.19886974, 0.19847673, 0.19799747,\n",
       "       0.19787344, 0.1960808 , 0.19579005, 0.19566253, 0.19541849,\n",
       "       0.18967551, 0.18959329, 0.189339  , 0.18901604, 0.18847161,\n",
       "       0.18822317, 0.1873472 , 0.18603439, 0.18531976, 0.1852724 ,\n",
       "       0.18519942, 0.18508672, 0.18475109, 0.18474676, 0.18430785,\n",
       "       0.18416253, 0.18318032, 0.18316759, 0.18152651, 0.18092439,\n",
       "       0.18064796, 0.18051369, 0.17888298, 0.17809726, 0.17805751,\n",
       "       0.17760572, 0.17744953, 0.17741951, 0.176991  , 0.17652552,\n",
       "       0.17516685, 0.17489763, 0.17436236, 0.17373418, 0.17327796,\n",
       "       0.17290473, 0.17192799, 0.17123648, 0.16768046, 0.16758066,\n",
       "       0.16599701, 0.1656155 , 0.16472868, 0.16440632, 0.16373768,\n",
       "       0.16372509, 0.16037962, 0.16029528, 0.15912873, 0.15888155,\n",
       "       0.15803715, 0.15772577, 0.15742551, 0.15740917, 0.15614068,\n",
       "       0.15594277, 0.15578033, 0.15569967, 0.15561793, 0.15544896,\n",
       "       0.15456963, 0.15414551, 0.15315563, 0.15301911, 0.15129164,\n",
       "       0.15123997, 0.15109946, 0.15099853, 0.15050531, 0.15043681,\n",
       "       0.14821942, 0.147787  , 0.14716658, 0.14711958, 0.14699388,\n",
       "       0.146916  , 0.146177  , 0.14611432, 0.14576848, 0.14529258,\n",
       "       0.14405084, 0.14400476, 0.14155285, 0.14144114, 0.14069834,\n",
       "       0.14061868, 0.13987483, 0.13956637, 0.13811336, 0.13798649,\n",
       "       0.13671902, 0.13639175, 0.13393305, 0.13381091, 0.13265979,\n",
       "       0.13264429, 0.13159688, 0.13151783, 0.13050354, 0.13010709,\n",
       "       0.13007266, 0.1300293 , 0.12997145, 0.12988516, 0.12935835,\n",
       "       0.12935381, 0.1250588 , 0.12503084, 0.12453909, 0.12451178,\n",
       "       0.12436637, 0.12405517, 0.11922789, 0.11914584, 0.11308399,\n",
       "       0.11302815, 0.11274137, 0.11248606, 0.11232552, 0.11231607,\n",
       "       0.11055266, 0.1102238 , 0.10644074, 0.10642121, 0.10463661,\n",
       "       0.10462713, 0.10339696, 0.10304358, 0.10295451, 0.10233818,\n",
       "       0.10186001, 0.10160154, 0.10109651, 0.10102692, 0.09833645,\n",
       "       0.09824708, 0.09793399, 0.0978977 , 0.09779372, 0.09769415,\n",
       "       0.09476366, 0.09446861, 0.09320961, 0.09310625, 0.09073886,\n",
       "       0.09054521, 0.09049574, 0.09047642, 0.08902764, 0.08896306,\n",
       "       0.08638478, 0.08636767, 0.08484017, 0.08474839, 0.08411371,\n",
       "       0.08393248, 0.08332765, 0.08325101, 0.08298424, 0.08293245,\n",
       "       0.08163768, 0.0814507 , 0.0791261 , 0.07904683, 0.07759315,\n",
       "       0.07731185, 0.07724531, 0.07698129, 0.07417094, 0.0741021 ,\n",
       "       0.0734957 , 0.07322286, 0.07140368, 0.07137857, 0.07025379,\n",
       "       0.07024892, 0.06891143, 0.0687904 , 0.06785987, 0.06783841,\n",
       "       0.06774886, 0.06768135, 0.06677296, 0.06655987, 0.0635536 ,\n",
       "       0.06354778, 0.06181342, 0.06165949, 0.06067692, 0.06065501,\n",
       "       0.05739852, 0.05732632, 0.04972703, 0.04968059, 0.04797169,\n",
       "       0.04795302, 0.04782707, 0.04776111, 0.0420264 , 0.04199719,\n",
       "       0.03013161, 0.03001477, 0.00890686])"
      ]
     },
     "execution_count": 48,
     "metadata": {},
     "output_type": "execute_result"
    }
   ],
   "source": [
    "thresholds"
   ]
  },
  {
   "cell_type": "code",
   "execution_count": 49,
   "id": "17bca3cd",
   "metadata": {
    "scrolled": false
   },
   "outputs": [
    {
     "data": {
      "image/png": "[encoded data removed]",
      "text/plain": [
       "<Figure size 432x432 with 1 Axes>"
      ]
     },
     "metadata": {
      "needs_background": "light"
     },
     "output_type": "display_data"
    }
   ],
   "source": [
    "plt.figure(figsize = [6,6])\n",
    "\n",
    "# Plot the diagonal 50% line\n",
    "plt.plot([0, 1], [0, 1], 'b--');  # this signifies a 50/50 accuracy for the model which is very bad for the model cos its\n",
    "# will be seen as just a guessing model whose accuracy is around 50%. so the farther up(i.e auc_score) it is from the \n",
    "# diagonal line the  better the model, just like we have right now.\n",
    "\n",
    "#plot false positive rate and true positive rate\n",
    "plt.plot(fpr, tpr)\n",
    "\n",
    "plt.xlabel(\"False positive rate\")\n",
    "plt.ylabel(\"True positive rate\")\n",
    "plt.title(\"ROC Curve\")\n",
    "plt.show;"
   ]
  },
  {
   "cell_type": "code",
   "execution_count": 50,
   "id": "3f838d13",
   "metadata": {},
   "outputs": [],
   "source": [
    "from sklearn.metrics import roc_auc_score\n",
    "\n",
    "# roc -- recieved operator characteristics. auc --- area under curve"
   ]
  },
  {
   "cell_type": "code",
   "execution_count": 51,
   "id": "61bf5eac",
   "metadata": {},
   "outputs": [
    {
     "data": {
      "text/plain": [
       "array([0, 1, 0, ..., 0, 0, 0], dtype=int64)"
      ]
     },
     "execution_count": 51,
     "metadata": {},
     "output_type": "execute_result"
    }
   ],
   "source": [
    "y_test"
   ]
  },
  {
   "cell_type": "code",
   "execution_count": 52,
   "id": "c7e2cd7c",
   "metadata": {},
   "outputs": [
    {
     "data": {
      "text/plain": [
       "array([0.38573957, 0.06768135, 0.07898377, ..., 0.77078188, 0.19345336,\n",
       "       0.03363482])"
      ]
     },
     "execution_count": 52,
     "metadata": {},
     "output_type": "execute_result"
    }
   ],
   "source": [
    "y_score[:, 1] # the reason we are using this its because from the predict probability, the output gives a [no, yes] array \n",
    "# of data. so its better we take the YES array"
   ]
  },
  {
   "cell_type": "code",
   "execution_count": 53,
   "id": "3f038688",
   "metadata": {},
   "outputs": [],
   "source": [
    "auc = roc_auc_score(y_test, y_score[:,1])"
   ]
  },
  {
   "cell_type": "code",
   "execution_count": 54,
   "id": "ea25d770",
   "metadata": {},
   "outputs": [
    {
     "name": "stdout",
     "output_type": "stream",
     "text": [
      "AUC score:  0.8568237348701079\n"
     ]
    }
   ],
   "source": [
    "print(\"AUC score: \", auc)"
   ]
  },
  {
   "cell_type": "code",
   "execution_count": 58,
   "id": "f4d7ee05",
   "metadata": {},
   "outputs": [],
   "source": [
    "from sklearn.compose import ColumnTransformer\n",
    "from sklearn.pipeline import Pipeline\n",
    "from sklearn.preprocessing import StandardScaler, OneHotEncoder\n",
    "import numpy as np"
   ]
  },
  {
   "cell_type": "code",
   "execution_count": 60,
   "id": "7bf9f286",
   "metadata": {},
   "outputs": [],
   "source": [
    "# Define preprocessing for numeric columns (normalize them so they're on the same scale)\n",
    "numeric_features = [0,1,2,3,4,5,6]\n",
    "numeric_transformer = Pipeline(steps=[\n",
    "    (\"scaler\", StandardScaler())])"
   ]
  },
  {
   "cell_type": "code",
   "execution_count": 61,
   "id": "effdb1ed",
   "metadata": {},
   "outputs": [],
   "source": [
    "# Define preprocessing for categorical features (encode the Age column)\n",
    "categorical_features = [7]\n",
    "categorical_transformer = Pipeline(steps=[\n",
    "    (\"encode\", OneHotEncoder(handle_unknown = \"ignore\"))])"
   ]
  },
  {
   "cell_type": "code",
   "execution_count": 64,
   "id": "ff7c8933",
   "metadata": {},
   "outputs": [],
   "source": [
    "# Combine preprocessing steps\n",
    "preprocessor = ColumnTransformer(\n",
    "    transformers=[\n",
    "        (\"num\", numeric_transformer, numeric_features),\n",
    "        (\"cat\", categorical_transformer, categorical_features)])"
   ]
  },
  {
   "cell_type": "code",
   "execution_count": 66,
   "id": "fa76dc40",
   "metadata": {},
   "outputs": [],
   "source": [
    "# Create preprocessing and training pipeline\n",
    "\n",
    "pipeline = Pipeline(steps=[\n",
    "    (\"preprocessor\", preprocessor),\n",
    "    (\"logregressor\", LogisticRegression(C = 1/reg, solver = \"liblinear\"))])"
   ]
  },
  {
   "cell_type": "code",
   "execution_count": 72,
   "id": "8c81bb65",
   "metadata": {},
   "outputs": [
    {
     "data": {
      "text/plain": [
       "array([0, 0, 1, ..., 1, 1, 0], dtype=int64)"
      ]
     },
     "execution_count": 72,
     "metadata": {},
     "output_type": "execute_result"
    }
   ],
   "source": [
    "(y_train)"
   ]
  },
  {
   "cell_type": "code",
   "execution_count": 73,
   "id": "2a177aa1",
   "metadata": {},
   "outputs": [],
   "source": [
    "# fit the pipeline to train a logistic regression model on the training set\n",
    "model = pipeline.fit(x_train, (y_train))"
   ]
  },
  {
   "cell_type": "code",
   "execution_count": 74,
   "id": "61dce9a9",
   "metadata": {},
   "outputs": [
    {
     "name": "stdout",
     "output_type": "stream",
     "text": [
      "Pipeline(steps=[('preprocessor',\n",
      "                 ColumnTransformer(transformers=[('num',\n",
      "                                                  Pipeline(steps=[('scaler',\n",
      "                                                                   StandardScaler())]),\n",
      "                                                  [0, 1, 2, 3, 4, 5, 6]),\n",
      "                                                 ('cat',\n",
      "                                                  Pipeline(steps=[('encode',\n",
      "                                                                   OneHotEncoder(handle_unknown='ignore'))]),\n",
      "                                                  [7])])),\n",
      "                ('logregressor',\n",
      "                 LogisticRegression(C=100.0, solver='liblinear'))])\n"
     ]
    }
   ],
   "source": [
    "print(model)"
   ]
  },
  {
   "cell_type": "code",
   "execution_count": 75,
   "id": "eac82a90",
   "metadata": {},
   "outputs": [],
   "source": [
    "prediction = model.predict(x_test)"
   ]
  },
  {
   "cell_type": "code",
   "execution_count": 76,
   "id": "f34e92d6",
   "metadata": {},
   "outputs": [
    {
     "data": {
      "text/plain": [
       "array([0, 0, 0, ..., 1, 0, 0], dtype=int64)"
      ]
     },
     "execution_count": 76,
     "metadata": {},
     "output_type": "execute_result"
    }
   ],
   "source": [
    "prediction"
   ]
  },
  {
   "cell_type": "code",
   "execution_count": 77,
   "id": "66a779ec",
   "metadata": {},
   "outputs": [],
   "source": [
    "accuracy = accuracy_score(y_test, prediction)"
   ]
  },
  {
   "cell_type": "code",
   "execution_count": 78,
   "id": "a4c0a789",
   "metadata": {},
   "outputs": [
    {
     "data": {
      "text/plain": [
       "0.846"
      ]
     },
     "execution_count": 78,
     "metadata": {},
     "output_type": "execute_result"
    }
   ],
   "source": [
    "accuracy"
   ]
  },
  {
   "cell_type": "code",
   "execution_count": 79,
   "id": "2871fff7",
   "metadata": {},
   "outputs": [],
   "source": [
    "cm = confusion_matrix(y_test, prediction)"
   ]
  },
  {
   "cell_type": "code",
   "execution_count": 81,
   "id": "7ac4f741",
   "metadata": {},
   "outputs": [
    {
     "name": "stdout",
     "output_type": "stream",
     "text": [
      "confusion matrix: \n",
      " [[1836  178]\n",
      " [ 284  702]]\n"
     ]
    }
   ],
   "source": [
    "print(\"confusion matrix: \\n\", cm)"
   ]
  },
  {
   "cell_type": "code",
   "execution_count": 82,
   "id": "9f9b5de7",
   "metadata": {},
   "outputs": [],
   "source": [
    "y_score = model.predict_proba(x_test)"
   ]
  },
  {
   "cell_type": "code",
   "execution_count": 84,
   "id": "dba7a0a3",
   "metadata": {},
   "outputs": [
    {
     "data": {
      "text/plain": [
       "array([[9.99820572e-01, 1.79427689e-04],\n",
       "       [9.75816896e-01, 2.41831043e-02],\n",
       "       [8.83738896e-01, 1.16261104e-01],\n",
       "       ...,\n",
       "       [2.75084608e-01, 7.24915392e-01],\n",
       "       [9.99944095e-01, 5.59049886e-05],\n",
       "       [9.88719240e-01, 1.12807595e-02]])"
      ]
     },
     "execution_count": 84,
     "metadata": {},
     "output_type": "execute_result"
    }
   ],
   "source": [
    "y_score"
   ]
  },
  {
   "cell_type": "code",
   "execution_count": 88,
   "id": "29d05421",
   "metadata": {},
   "outputs": [
    {
     "name": "stdout",
     "output_type": "stream",
     "text": [
      "Accuracy:  0.846 \n",
      "\n",
      "Precision:  0.7977272727272727 \n",
      "\n",
      "Recall:  0.7119675456389453\n"
     ]
    }
   ],
   "source": [
    "print(\"Accuracy: \", accuracy_score(y_test, prediction), \"\\n\")\n",
    "print(\"Precision: \", precision_score(y_test, prediction), \"\\n\")\n",
    "print(\"Recall: \", recall_score(y_test, prediction))"
   ]
  },
  {
   "cell_type": "code",
   "execution_count": 89,
   "id": "99f99584",
   "metadata": {},
   "outputs": [],
   "source": [
    "Auc = roc_auc_score(y_test, y_score[:,1])"
   ]
  },
  {
   "cell_type": "code",
   "execution_count": 90,
   "id": "37c73f48",
   "metadata": {},
   "outputs": [
    {
     "name": "stdout",
     "output_type": "stream",
     "text": [
      "AUC:  0.9203179165718269\n"
     ]
    }
   ],
   "source": [
    "print(\"AUC: \", Auc)"
   ]
  },
  {
   "cell_type": "code",
   "execution_count": 274,
   "id": "b31dcab0",
   "metadata": {},
   "outputs": [],
   "source": [
    "fpr, tpr, thresholds = roc_curve(y_test, y_score[:, 1])"
   ]
  },
  {
   "cell_type": "code",
   "execution_count": 91,
   "id": "5df91bbd",
   "metadata": {},
   "outputs": [
    {
     "data": {
      "image/png": "[encoded data removed]",
      "text/plain": [
       "<Figure size 432x432 with 1 Axes>"
      ]
     },
     "metadata": {
      "needs_background": "light"
     },
     "output_type": "display_data"
    }
   ],
   "source": [
    "plt.figure(figsize = [6,6])\n",
    "\n",
    "# Plot the diagonal 50% line\n",
    "plt.plot([0, 1], [0, 1], 'b--');\n",
    "\n",
    "#plot false positive rate and true positive rate\n",
    "plt.plot(fpr, tpr)\n",
    "\n",
    "plt.xlabel(\"False positive rate\")\n",
    "plt.ylabel(\"True positive rate\")\n",
    "plt.title(\"ROC Curve\")\n",
    "plt.show()"
   ]
  },
  {
   "cell_type": "code",
   "execution_count": 95,
   "id": "11fcbf6c",
   "metadata": {},
   "outputs": [],
   "source": [
    "from sklearn.ensemble import RandomForestClassifier  \n",
    "# we use this is for binary class just like RandomForestRegression we use for regression task"
   ]
  },
  {
   "cell_type": "code",
   "execution_count": 96,
   "id": "c05f7f46",
   "metadata": {},
   "outputs": [],
   "source": [
    "# Create preprocessing and training pipeline\n",
    "\n",
    "pipeline = Pipeline(steps = [\n",
    "    (\"preprocessor\", preprocessor),\n",
    "    (\"logregressor\", RandomForestClassifier(n_estimators = 100))\n",
    "])"
   ]
  },
  {
   "cell_type": "code",
   "execution_count": 97,
   "id": "99491e37",
   "metadata": {},
   "outputs": [],
   "source": [
    "model = pipeline.fit(x_train, (y_train))"
   ]
  },
  {
   "cell_type": "code",
   "execution_count": 98,
   "id": "65a8703b",
   "metadata": {},
   "outputs": [
    {
     "data": {
      "text/plain": [
       "Pipeline(steps=[('preprocessor',\n",
       "                 ColumnTransformer(transformers=[('num',\n",
       "                                                  Pipeline(steps=[('scaler',\n",
       "                                                                   StandardScaler())]),\n",
       "                                                  [0, 1, 2, 3, 4, 5, 6]),\n",
       "                                                 ('cat',\n",
       "                                                  Pipeline(steps=[('encode',\n",
       "                                                                   OneHotEncoder(handle_unknown='ignore'))]),\n",
       "                                                  [7])])),\n",
       "                ('logregressor', RandomForestClassifier())])"
      ]
     },
     "execution_count": 98,
     "metadata": {},
     "output_type": "execute_result"
    }
   ],
   "source": [
    "model"
   ]
  },
  {
   "cell_type": "code",
   "execution_count": 99,
   "id": "5d2866d4",
   "metadata": {},
   "outputs": [],
   "source": [
    "prediction = model.predict(x_test)"
   ]
  },
  {
   "cell_type": "code",
   "execution_count": 100,
   "id": "05f9934b",
   "metadata": {},
   "outputs": [
    {
     "data": {
      "text/plain": [
       "array([0, 1, 0, ..., 1, 0, 0], dtype=int64)"
      ]
     },
     "execution_count": 100,
     "metadata": {},
     "output_type": "execute_result"
    }
   ],
   "source": [
    "prediction"
   ]
  },
  {
   "cell_type": "code",
   "execution_count": 101,
   "id": "864d35b3",
   "metadata": {},
   "outputs": [],
   "source": [
    "y_score = model.predict_proba(x_test)"
   ]
  },
  {
   "cell_type": "code",
   "execution_count": 102,
   "id": "02c18872",
   "metadata": {},
   "outputs": [
    {
     "data": {
      "text/plain": [
       "array([[0.98, 0.02],\n",
       "       [0.43, 0.57],\n",
       "       [0.98, 0.02],\n",
       "       ...,\n",
       "       [0.22, 0.78],\n",
       "       [1.  , 0.  ],\n",
       "       [0.97, 0.03]])"
      ]
     },
     "execution_count": 102,
     "metadata": {},
     "output_type": "execute_result"
    }
   ],
   "source": [
    "y_score"
   ]
  },
  {
   "cell_type": "code",
   "execution_count": 103,
   "id": "12ef1a8b",
   "metadata": {},
   "outputs": [],
   "source": [
    "cm = confusion_matrix(y_test, prediction)"
   ]
  },
  {
   "cell_type": "code",
   "execution_count": 105,
   "id": "35500978",
   "metadata": {},
   "outputs": [
    {
     "name": "stdout",
     "output_type": "stream",
     "text": [
      "Confusion Matrix: \n",
      " [[1944   70]\n",
      " [ 119  867]]\n"
     ]
    }
   ],
   "source": [
    "print(\"Confusion Matrix: \\n\", cm)"
   ]
  },
  {
   "cell_type": "code",
   "execution_count": 106,
   "id": "73279575",
   "metadata": {},
   "outputs": [],
   "source": [
    "accuracy = accuracy_score(y_test, prediction)"
   ]
  },
  {
   "cell_type": "code",
   "execution_count": 107,
   "id": "2d08d16c",
   "metadata": {},
   "outputs": [],
   "source": [
    "precision = precision_score(y_test, prediction)"
   ]
  },
  {
   "cell_type": "code",
   "execution_count": 108,
   "id": "f1981527",
   "metadata": {},
   "outputs": [],
   "source": [
    "recall = recall_score(y_test, prediction)"
   ]
  },
  {
   "cell_type": "code",
   "execution_count": 109,
   "id": "9d26da4e",
   "metadata": {},
   "outputs": [],
   "source": [
    "auc = roc_auc_score(y_test, y_score[:, 1]) "
   ]
  },
  {
   "cell_type": "code",
   "execution_count": 110,
   "id": "bae74ad2",
   "metadata": {},
   "outputs": [
    {
     "name": "stdout",
     "output_type": "stream",
     "text": [
      "Accuracy:  0.937 \n",
      "\n",
      "Precision:  0.9252934898612594 \n",
      "\n",
      "Recall:  0.8793103448275862 \n",
      "\n",
      "AUC:  0.983836773417719\n"
     ]
    }
   ],
   "source": [
    "print(\"Accuracy: \", accuracy_score(y_test, prediction), \"\\n\")\n",
    "print(\"Precision: \", precision_score(y_test, prediction), \"\\n\")\n",
    "print(\"Recall: \", recall_score(y_test, prediction), \"\\n\")\n",
    "print(\"AUC: \", auc)"
   ]
  },
  {
   "cell_type": "code",
   "execution_count": 111,
   "id": "aef1106b",
   "metadata": {},
   "outputs": [],
   "source": [
    "fpr, tpr, thresholds = roc_curve(y_test, y_score[:, 1])"
   ]
  },
  {
   "cell_type": "code",
   "execution_count": 112,
   "id": "c08ec481",
   "metadata": {},
   "outputs": [
    {
     "data": {
      "image/png": "[encoded data removed]",
      "text/plain": [
       "<Figure size 432x432 with 1 Axes>"
      ]
     },
     "metadata": {
      "needs_background": "light"
     },
     "output_type": "display_data"
    }
   ],
   "source": [
    "plt.figure(figsize = [6,6])\n",
    "\n",
    "# Plot the diagonal 50% line\n",
    "plt.plot([0, 1], [0, 1], 'b--');\n",
    "\n",
    "#plot false positive rate and true positive rate\n",
    "plt.plot(fpr, tpr)\n",
    "\n",
    "plt.xlabel(\"False positive rate\")\n",
    "plt.ylabel(\"True positive rate\")\n",
    "plt.title(\"ROC Curve\")\n",
    "plt.show()"
   ]
  },
  {
   "cell_type": "code",
   "execution_count": 113,
   "id": "ab0871d3",
   "metadata": {},
   "outputs": [],
   "source": [
    "import joblib"
   ]
  },
  {
   "cell_type": "code",
   "execution_count": 114,
   "id": "c5613e2f",
   "metadata": {},
   "outputs": [],
   "source": [
    "filename = \"./diabetes_model.pkl\""
   ]
  },
  {
   "cell_type": "code",
   "execution_count": 115,
   "id": "97eab261",
   "metadata": {},
   "outputs": [
    {
     "data": {
      "text/plain": [
       "['./diabetes_model.pkl']"
      ]
     },
     "execution_count": 115,
     "metadata": {},
     "output_type": "execute_result"
    }
   ],
   "source": [
    "joblib.dump(model, filename)"
   ]
  },
  {
   "cell_type": "code",
   "execution_count": 116,
   "id": "66a58c50",
   "metadata": {},
   "outputs": [],
   "source": [
    "model = joblib.load(filename)"
   ]
  },
  {
   "cell_type": "code",
   "execution_count": 117,
   "id": "f50e9314",
   "metadata": {},
   "outputs": [],
   "source": [
    "# predict on a new sample\n",
    "# The model accepts an array of feature arrays (so you can predict the classes of multiple patients in a single call)\n",
    "# We'll create an array with a single array of features, representing one patient\n",
    "\n",
    "X_new = np.array([[2,180,74,24,21,23.9091702,1.488172308,22]])"
   ]
  },
  {
   "cell_type": "code",
   "execution_count": 118,
   "id": "b36863e8",
   "metadata": {},
   "outputs": [
    {
     "name": "stdout",
     "output_type": "stream",
     "text": [
      "New data:  [2.0, 180.0, 74.0, 24.0, 21.0, 23.9091702, 1.488172308, 22.0]\n"
     ]
    }
   ],
   "source": [
    "print(\"New data: \", list(X_new[0]))"
   ]
  },
  {
   "cell_type": "code",
   "execution_count": 119,
   "id": "aa3c41b1",
   "metadata": {},
   "outputs": [],
   "source": [
    "prediction = model.predict(X_new)"
   ]
  },
  {
   "cell_type": "code",
   "execution_count": 121,
   "id": "27d54cd8",
   "metadata": {},
   "outputs": [
    {
     "name": "stdout",
     "output_type": "stream",
     "text": [
      "Predicted class for the new data:  1\n"
     ]
    }
   ],
   "source": [
    "print(\"Predicted class for the new data: \", prediction[0])"
   ]
  },
  {
   "cell_type": "code",
   "execution_count": null,
   "id": "3e4dbec2",
   "metadata": {},
   "outputs": [],
   "source": []
  }
 ],
 "metadata": {
  "kernelspec": {
   "display_name": "Python 3 (ipykernel)",
   "language": "python",
   "name": "python3"
  },
  "language_info": {
   "codemirror_mode": {
    "name": "ipython",
    "version": 3
   },
   "file_extension": ".py",
   "mimetype": "text/x-python",
   "name": "python",
   "nbconvert_exporter": "python",
   "pygments_lexer": "ipython3",
   "version": "3.9.7"
  }
 },
 "nbformat": 4,
 "nbformat_minor": 5
}
